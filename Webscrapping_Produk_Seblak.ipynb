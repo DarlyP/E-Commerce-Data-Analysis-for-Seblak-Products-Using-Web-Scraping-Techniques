{
 "cells": [
  {
   "cell_type": "markdown",
   "metadata": {},
   "source": [
    "#### **Objective:**\n",
    "\n",
    "Program untuk mengelola dan menganalisis data untuk skema dropship dari platform Tokopedia yang dimana\n",
    "prosesnya akan menggunakan metode *Web Scraping*. Pengelolahan data yang dilakukan adalah mengolah data dari *missing value* hingga mengubah bentuk data dari bentuk string menjadi integer. Untuk analisis data akan dilakukan dengan menggunakan metode *measurement of central tendency*, *measurement of dispersion* dan analisa distribusi data. Selain itu akan dilakukan uji coba pertanyaan yang nantinya akan dijawab dengan pendekatan statistika seperti analisa korelasi dan hipotesis. Adapun program akan dijabarkan berdasarkan pandangan bisnis  \n",
    "\n",
    "---\n"
   ]
  },
  {
   "cell_type": "markdown",
   "metadata": {},
   "source": [
    "Import *Package*"
   ]
  },
  {
   "cell_type": "code",
   "execution_count": 1,
   "metadata": {},
   "outputs": [],
   "source": [
    "# Import Package\n",
    "from selenium import webdriver\n",
    "from bs4 import BeautifulSoup\n",
    "from scipy import stats\n",
    "import time\n",
    "import pandas as pd\n",
    "import matplotlib.pyplot as plt\n",
    "import seaborn as sns\n",
    "import numpy as np\n",
    "import seaborn as sns\n"
   ]
  },
  {
   "cell_type": "markdown",
   "metadata": {},
   "source": [
    "---"
   ]
  },
  {
   "cell_type": "markdown",
   "metadata": {},
   "source": [
    "#### **Pengambilan Data Melalui *Web Scrapping***"
   ]
  },
  {
   "cell_type": "markdown",
   "metadata": {},
   "source": [
    "--- \n",
    "\n",
    "Pada tahap ini akan dilakukan pengambilan data bedsarkan URL dari Tokopedia dengan menggunakan bantuan driver. Setalah data telah diambil, selanjutnya adalah mengubahnya dalam bentuk *dataframe* dan melakukan ekspor data dalam bentuk CSV \n",
    "\n",
    "---\n"
   ]
  },
  {
   "cell_type": "markdown",
   "metadata": {},
   "source": [
    "##### Mengakses URL Data dengan Metode Driver"
   ]
  },
  {
   "cell_type": "code",
   "execution_count": 2,
   "metadata": {},
   "outputs": [],
   "source": [
    "# Mengambil Driver Edge\n",
    "driver = webdriver.Edge()"
   ]
  },
  {
   "cell_type": "code",
   "execution_count": 3,
   "metadata": {},
   "outputs": [],
   "source": [
    "# Link yang Ingin Diakses\n",
    "url = 'https://www.tokopedia.com/search?navsource=&page=1&q=seblak&srp_component_id=02.01.00.00&srp_page_id=&srp_page_title=&st='\n",
    "\n",
    "# Akses\n",
    "driver.get(url)"
   ]
  },
  {
   "cell_type": "markdown",
   "metadata": {},
   "source": [
    "**Interpretasi #1:**\n",
    "\n",
    "Berikut adalah sampel dari HTML yang telah dilakukan inspect element pada web yang ingin dilakukan metode web scrapping. Sampel data mengambil bentuk kotak dari contoh jualan seblak pada bagian kotak dan mengambil bagian bentuk `tag`, `attributes` dan `attribute value`\n",
    "\n",
    "<a class=\"pcv3__info-content css-gwkf0u\" href=\"https://ta.tokopedia.com/promo/v1/clicks/"
   ]
  },
  {
   "cell_type": "markdown",
   "metadata": {},
   "source": [
    "##### Proses *Webscrapping* dan Menyimpan Data"
   ]
  },
  {
   "cell_type": "code",
   "execution_count": 4,
   "metadata": {},
   "outputs": [],
   "source": [
    "# Variabel Untuk Menyimpan Hasil Scrapping\n",
    "Nama_Produk = []\n",
    "Harga_Produk = []\n",
    "Penjual = []\n",
    "Kota_Toko = []\n",
    "Banyaknya_Terjual = []\n",
    "Rating_Produk = []\n",
    "\n",
    "\n",
    "# Akses Halaman dari 1-10\n",
    "for no_halaman in range(1,11):\n",
    "    url = f'https://www.tokopedia.com/search?navsource=&page={no_halaman}&q=seblak&srp_component_id=02.01.00.00&srp_page_id=&srp_page_title=&st='\n",
    "\n",
    "    # Akses Halaman Menggunakan Metode Driver\n",
    "    driver.get(url)\n",
    "    \n",
    "    # Menggunakan Metode Time Buat Loading Website\n",
    "    time.sleep(10)\n",
    "    \n",
    "    # Ekstrak HTML Menggunakan Driver\n",
    "    html = driver.page_source\n",
    "\n",
    "    # Mengguraikan Ekstrak HTML\n",
    "    soup = BeautifulSoup(html, 'html.parser')\n",
    "\n",
    "    # Pengumpulan Data Melalui Elemen Kotak\n",
    "    squares = soup.find_all('a', {'class' :\"pcv3__info-content css-gwkf0u\"})\n",
    "\n",
    "    # Menggunakan Fungsi Perulangan Untuk Mengambil Data\n",
    "    for box in squares:\n",
    "        \n",
    "        # Mengambil Element Nama Produk\n",
    "        try:\n",
    "            element_nama_produk = box.find('div', {'class' : 'prd_link-product-name css-3um8ox'})\n",
    "            Nama_Produk.append(element_nama_produk.get_text())\n",
    "        except:\n",
    "            Nama_Produk.append(None)\n",
    "        \n",
    "        # Mengambil Element Harga\n",
    "        try:\n",
    "            element_harga_produk = box.find('div', {'class' : 'prd_link-product-price css-h66vau'})\n",
    "            Harga_Produk.append(element_harga_produk.get_text())\n",
    "        except:\n",
    "            Harga_Produk.append(None)\n",
    "\n",
    "        # Mengambil Element Penjual\n",
    "        try:\n",
    "            element_penjual = box.find('span', {'class' : \"prd_link-shop-name css-1kdc32b flip\"})\n",
    "            Penjual.append(element_penjual.get_text())\n",
    "        except:\n",
    "            Penjual.append(None)\n",
    "        \n",
    "        # Mengambil Element Kota Toko\n",
    "        try:\n",
    "            element_kota_toko = box.find('span', {'class' : \"prd_link-shop-loc css-1kdc32b flip\"})\n",
    "            Kota_Toko.append(element_kota_toko.get_text())\n",
    "        except:\n",
    "            Kota_Toko.append(None)\n",
    "        \n",
    "        # Mengambil Element Banyaknya Terjual\n",
    "        try:\n",
    "            element_banyaknya_terjual = box.find('span', {'class' : \"prd_label-integrity css-1sgek4h\"})\n",
    "            Banyaknya_Terjual.append(element_banyaknya_terjual.get_text())\n",
    "        except:\n",
    "            Banyaknya_Terjual.append(None)\n",
    "        \n",
    "        # Mengambil Element Rating Produk\n",
    "        try:\n",
    "            element_rating_produk = box.find('span', {'class' : \"prd_rating-average-text css-t70v7i\"})\n",
    "            Rating_Produk.append(element_rating_produk.get_text())\n",
    "        except:\n",
    "            Rating_Produk.append(None)\n",
    "\n",
    "# Membuat Data Frame\n",
    "data = pd.DataFrame()\n",
    "\n",
    "# Masukkan Data\n",
    "data[\"Nama Produk\"] = Nama_Produk\n",
    "data[\"Harga Produk\"] = Harga_Produk\n",
    "data[\"Penjual\"] = Penjual\n",
    "data[\"Kota Toko\"] = Kota_Toko\n",
    "data[\"Banyaknya Terjual\"] = Banyaknya_Terjual\n",
    "data[\"Rating Produk\"] = Rating_Produk\n",
    "\n",
    "# Simpan Data dalam Bentuk CSV\n",
    "data.to_csv(\"Data_Web_Scrapping.csv\", index=False)"
   ]
  },
  {
   "cell_type": "markdown",
   "metadata": {},
   "source": [
    "**Interpretasi #2:**\n",
    "\n",
    "Data yang diambil dari tokopedia adalah data makanan seblak. Parameter yang diambil adalah `Nama_Produk`, `Harga_Produk`, `Penjual`, 'Kota_Toko', `Banyaknya_Terjual`, `Rating_Produk` . Proses pengambilan data akan menggunakan metode try-except pada web scrapping dengan tujuan menangani situasi seperti koneksi internet yang buruk, perubahan dalam struktur halaman web, atau bahkan pemblokiran dari server situs web dapat terjadi. Selain itu digunakan metode time.sleep() agar data pada dataframe tidak terjadi tumpang tindih. Selanjutnya data akan diekspor ke dalam bentuk csv dengan nama Data_Web_Scrapping.csv\n",
    "\n",
    "---\n",
    "\n",
    "\n",
    "\n"
   ]
  },
  {
   "cell_type": "markdown",
   "metadata": {},
   "source": [
    "#### ***Data Preparation***"
   ]
  },
  {
   "cell_type": "markdown",
   "metadata": {},
   "source": [
    "---\n",
    "\n",
    "Sebelum data akan dianalisis, pada tahap ini akan dilakukan eksplorasi data yang nantinya akan dilakukan pencarian mengenai informasi data hingga menangani nilai *missing value* hingga nilai string pada data\n",
    "\n",
    "---"
   ]
  },
  {
   "cell_type": "markdown",
   "metadata": {},
   "source": [
    "##### Eksplorasi Data"
   ]
  },
  {
   "cell_type": "code",
   "execution_count": 5,
   "metadata": {},
   "outputs": [],
   "source": [
    "# Membaca File CSV\n",
    "df = pd.read_csv(\"Data_Web_Scrapping.csv\", na_values=['N/A', 'NA'])"
   ]
  },
  {
   "cell_type": "code",
   "execution_count": 6,
   "metadata": {},
   "outputs": [
    {
     "data": {
      "text/html": [
       "<div>\n",
       "<style scoped>\n",
       "    .dataframe tbody tr th:only-of-type {\n",
       "        vertical-align: middle;\n",
       "    }\n",
       "\n",
       "    .dataframe tbody tr th {\n",
       "        vertical-align: top;\n",
       "    }\n",
       "\n",
       "    .dataframe thead th {\n",
       "        text-align: right;\n",
       "    }\n",
       "</style>\n",
       "<table border=\"1\" class=\"dataframe\">\n",
       "  <thead>\n",
       "    <tr style=\"text-align: right;\">\n",
       "      <th></th>\n",
       "      <th>Nama Produk</th>\n",
       "      <th>Harga Produk</th>\n",
       "      <th>Penjual</th>\n",
       "      <th>Kota Toko</th>\n",
       "      <th>Banyaknya Terjual</th>\n",
       "      <th>Rating Produk</th>\n",
       "    </tr>\n",
       "  </thead>\n",
       "  <tbody>\n",
       "    <tr>\n",
       "      <th>0</th>\n",
       "      <td>Kylafood Paket (3 Seblak Original 2 Batagor ku...</td>\n",
       "      <td>Rp97.200</td>\n",
       "      <td>NaN</td>\n",
       "      <td>NaN</td>\n",
       "      <td>3 rb+ terjual</td>\n",
       "      <td>4.9</td>\n",
       "    </tr>\n",
       "    <tr>\n",
       "      <th>1</th>\n",
       "      <td>Kylafood Seblak karuhun</td>\n",
       "      <td>Rp11.880</td>\n",
       "      <td>NaN</td>\n",
       "      <td>NaN</td>\n",
       "      <td>4 rb+ terjual</td>\n",
       "      <td>4.8</td>\n",
       "    </tr>\n",
       "    <tr>\n",
       "      <th>2</th>\n",
       "      <td>Kylafood Seblak Mie Baso</td>\n",
       "      <td>Rp24.200</td>\n",
       "      <td>NaN</td>\n",
       "      <td>NaN</td>\n",
       "      <td>4 rb+ terjual</td>\n",
       "      <td>4.9</td>\n",
       "    </tr>\n",
       "    <tr>\n",
       "      <th>3</th>\n",
       "      <td>Kylafood Seblak Original</td>\n",
       "      <td>Rp19.800</td>\n",
       "      <td>kylafood</td>\n",
       "      <td>Bandung</td>\n",
       "      <td>10rb+ terjual</td>\n",
       "      <td>4.9</td>\n",
       "    </tr>\n",
       "    <tr>\n",
       "      <th>4</th>\n",
       "      <td>seblak instan jeletot jajanan hits bandung 1 p...</td>\n",
       "      <td>Rp4.180</td>\n",
       "      <td>tokomakanankalimantan</td>\n",
       "      <td>Jakarta Barat</td>\n",
       "      <td>1rb+ terjual</td>\n",
       "      <td>4.8</td>\n",
       "    </tr>\n",
       "    <tr>\n",
       "      <th>5</th>\n",
       "      <td>Seblak Rafael, Seblak Coet Instan Halal</td>\n",
       "      <td>Rp23.750</td>\n",
       "      <td>Brother Meat Shop</td>\n",
       "      <td>Depok</td>\n",
       "      <td>500+ terjual</td>\n",
       "      <td>4.9</td>\n",
       "    </tr>\n",
       "    <tr>\n",
       "      <th>6</th>\n",
       "      <td>Kylafood Seblak Rempah Autentik 115gr, Seblak ...</td>\n",
       "      <td>Rp9.900</td>\n",
       "      <td>Brother Meat Shop</td>\n",
       "      <td>Depok</td>\n",
       "      <td>100+ terjual</td>\n",
       "      <td>5.0</td>\n",
       "    </tr>\n",
       "    <tr>\n",
       "      <th>7</th>\n",
       "      <td>Kerupuk Seblak Pedas Krupuk Pelangi Pedas Sebl...</td>\n",
       "      <td>Rp14.725</td>\n",
       "      <td>toko bemo</td>\n",
       "      <td>Jakarta Timur</td>\n",
       "      <td>500+ terjual</td>\n",
       "      <td>4.9</td>\n",
       "    </tr>\n",
       "    <tr>\n",
       "      <th>8</th>\n",
       "      <td>Seblak Rafael, Seblak Coet Instan Halal</td>\n",
       "      <td>Rp23.750</td>\n",
       "      <td>Brother Meat Shop</td>\n",
       "      <td>Depok</td>\n",
       "      <td>500+ terjual</td>\n",
       "      <td>4.9</td>\n",
       "    </tr>\n",
       "    <tr>\n",
       "      <th>9</th>\n",
       "      <td>SEBLAK INSTANT TERMURAH</td>\n",
       "      <td>Rp4.450</td>\n",
       "      <td>Pusat Cuankie &amp; Cemilan Frozen</td>\n",
       "      <td>Jakarta Timur</td>\n",
       "      <td>10rb+ terjual</td>\n",
       "      <td>4.8</td>\n",
       "    </tr>\n",
       "  </tbody>\n",
       "</table>\n",
       "</div>"
      ],
      "text/plain": [
       "                                         Nama Produk Harga Produk  \\\n",
       "0  Kylafood Paket (3 Seblak Original 2 Batagor ku...     Rp97.200   \n",
       "1                            Kylafood Seblak karuhun     Rp11.880   \n",
       "2                           Kylafood Seblak Mie Baso     Rp24.200   \n",
       "3                           Kylafood Seblak Original     Rp19.800   \n",
       "4  seblak instan jeletot jajanan hits bandung 1 p...      Rp4.180   \n",
       "5            Seblak Rafael, Seblak Coet Instan Halal     Rp23.750   \n",
       "6  Kylafood Seblak Rempah Autentik 115gr, Seblak ...      Rp9.900   \n",
       "7  Kerupuk Seblak Pedas Krupuk Pelangi Pedas Sebl...     Rp14.725   \n",
       "8            Seblak Rafael, Seblak Coet Instan Halal     Rp23.750   \n",
       "9                            SEBLAK INSTANT TERMURAH      Rp4.450   \n",
       "\n",
       "                          Penjual      Kota Toko Banyaknya Terjual  \\\n",
       "0                             NaN            NaN     3 rb+ terjual   \n",
       "1                             NaN            NaN     4 rb+ terjual   \n",
       "2                             NaN            NaN     4 rb+ terjual   \n",
       "3                        kylafood        Bandung     10rb+ terjual   \n",
       "4           tokomakanankalimantan  Jakarta Barat      1rb+ terjual   \n",
       "5               Brother Meat Shop          Depok      500+ terjual   \n",
       "6               Brother Meat Shop          Depok      100+ terjual   \n",
       "7                       toko bemo  Jakarta Timur      500+ terjual   \n",
       "8               Brother Meat Shop          Depok      500+ terjual   \n",
       "9  Pusat Cuankie & Cemilan Frozen  Jakarta Timur     10rb+ terjual   \n",
       "\n",
       "   Rating Produk  \n",
       "0            4.9  \n",
       "1            4.8  \n",
       "2            4.9  \n",
       "3            4.9  \n",
       "4            4.8  \n",
       "5            4.9  \n",
       "6            5.0  \n",
       "7            4.9  \n",
       "8            4.9  \n",
       "9            4.8  "
      ]
     },
     "execution_count": 6,
     "metadata": {},
     "output_type": "execute_result"
    }
   ],
   "source": [
    "# Menampilkan 10 Data Teratas\n",
    "df.head(10)"
   ]
  },
  {
   "cell_type": "code",
   "execution_count": 7,
   "metadata": {},
   "outputs": [
    {
     "data": {
      "text/html": [
       "<div>\n",
       "<style scoped>\n",
       "    .dataframe tbody tr th:only-of-type {\n",
       "        vertical-align: middle;\n",
       "    }\n",
       "\n",
       "    .dataframe tbody tr th {\n",
       "        vertical-align: top;\n",
       "    }\n",
       "\n",
       "    .dataframe thead th {\n",
       "        text-align: right;\n",
       "    }\n",
       "</style>\n",
       "<table border=\"1\" class=\"dataframe\">\n",
       "  <thead>\n",
       "    <tr style=\"text-align: right;\">\n",
       "      <th></th>\n",
       "      <th>Nama Produk</th>\n",
       "      <th>Harga Produk</th>\n",
       "      <th>Penjual</th>\n",
       "      <th>Kota Toko</th>\n",
       "      <th>Banyaknya Terjual</th>\n",
       "      <th>Rating Produk</th>\n",
       "    </tr>\n",
       "  </thead>\n",
       "  <tbody>\n",
       "    <tr>\n",
       "      <th>365</th>\n",
       "      <td>Kylafood Seblak Rempah Autentik 115gr, Seblak ...</td>\n",
       "      <td>Rp9.900</td>\n",
       "      <td>Brother Meat Shop</td>\n",
       "      <td>Depok</td>\n",
       "      <td>100+ terjual</td>\n",
       "      <td>5.0</td>\n",
       "    </tr>\n",
       "    <tr>\n",
       "      <th>366</th>\n",
       "      <td>Seblak Rafael, Seblak Coet Instan Halal</td>\n",
       "      <td>Rp23.750</td>\n",
       "      <td>Brother Meat Shop</td>\n",
       "      <td>Depok</td>\n",
       "      <td>500+ terjual</td>\n",
       "      <td>4.9</td>\n",
       "    </tr>\n",
       "    <tr>\n",
       "      <th>367</th>\n",
       "      <td>SEBLAK INSTANT TERMURAH</td>\n",
       "      <td>Rp4.450</td>\n",
       "      <td>Pusat Cuankie &amp; Cemilan Frozen</td>\n",
       "      <td>Jakarta Timur</td>\n",
       "      <td>10rb+ terjual</td>\n",
       "      <td>4.8</td>\n",
       "    </tr>\n",
       "    <tr>\n",
       "      <th>368</th>\n",
       "      <td>Seblak Instan Pedas Home Made</td>\n",
       "      <td>Rp3.500</td>\n",
       "      <td>the Dhecip</td>\n",
       "      <td>Tangerang Selatan</td>\n",
       "      <td>3rb+ terjual</td>\n",
       "      <td>4.9</td>\n",
       "    </tr>\n",
       "    <tr>\n",
       "      <th>369</th>\n",
       "      <td>Seblak Rafael/Seblak Coet Instan Halal</td>\n",
       "      <td>Rp26.600</td>\n",
       "      <td>Foodstocks</td>\n",
       "      <td>Jakarta Selatan</td>\n",
       "      <td>60+ terjual</td>\n",
       "      <td>5.0</td>\n",
       "    </tr>\n",
       "    <tr>\n",
       "      <th>370</th>\n",
       "      <td>[250 gr] Kerupuk Seblak Pedas</td>\n",
       "      <td>Rp11.500</td>\n",
       "      <td>CamilanJati</td>\n",
       "      <td>Kab. Sidoarjo</td>\n",
       "      <td>50+ terjual</td>\n",
       "      <td>5.0</td>\n",
       "    </tr>\n",
       "    <tr>\n",
       "      <th>371</th>\n",
       "      <td>Gelifood Seblak Instan Kerupuk Mawar Bumbu Ken...</td>\n",
       "      <td>Rp15.000</td>\n",
       "      <td>Lidigeli</td>\n",
       "      <td>Kab. Garut</td>\n",
       "      <td>250+ terjual</td>\n",
       "      <td>4.8</td>\n",
       "    </tr>\n",
       "    <tr>\n",
       "      <th>372</th>\n",
       "      <td>Geli Food Seblak Ceker Tanpa Tulang Super Peda...</td>\n",
       "      <td>Rp24.000</td>\n",
       "      <td>Lidigeli</td>\n",
       "      <td>Kab. Garut</td>\n",
       "      <td>100+ terjual</td>\n",
       "      <td>4.8</td>\n",
       "    </tr>\n",
       "    <tr>\n",
       "      <th>373</th>\n",
       "      <td>Seblak Instan Komplit Pedas Gurih Nikmat</td>\n",
       "      <td>Rp5.999</td>\n",
       "      <td>Baso Aci Ayang</td>\n",
       "      <td>Kab. Garut</td>\n",
       "      <td>3rb+ terjual</td>\n",
       "      <td>4.9</td>\n",
       "    </tr>\n",
       "    <tr>\n",
       "      <th>374</th>\n",
       "      <td>Seblak Instan Pedas Home Made</td>\n",
       "      <td>Rp3.500</td>\n",
       "      <td>the Dhecip</td>\n",
       "      <td>Tangerang Selatan</td>\n",
       "      <td>3rb+ terjual</td>\n",
       "      <td>4.9</td>\n",
       "    </tr>\n",
       "  </tbody>\n",
       "</table>\n",
       "</div>"
      ],
      "text/plain": [
       "                                           Nama Produk Harga Produk  \\\n",
       "365  Kylafood Seblak Rempah Autentik 115gr, Seblak ...      Rp9.900   \n",
       "366            Seblak Rafael, Seblak Coet Instan Halal     Rp23.750   \n",
       "367                            SEBLAK INSTANT TERMURAH      Rp4.450   \n",
       "368                      Seblak Instan Pedas Home Made      Rp3.500   \n",
       "369             Seblak Rafael/Seblak Coet Instan Halal     Rp26.600   \n",
       "370                      [250 gr] Kerupuk Seblak Pedas     Rp11.500   \n",
       "371  Gelifood Seblak Instan Kerupuk Mawar Bumbu Ken...     Rp15.000   \n",
       "372  Geli Food Seblak Ceker Tanpa Tulang Super Peda...     Rp24.000   \n",
       "373           Seblak Instan Komplit Pedas Gurih Nikmat      Rp5.999   \n",
       "374                      Seblak Instan Pedas Home Made      Rp3.500   \n",
       "\n",
       "                            Penjual          Kota Toko Banyaknya Terjual  \\\n",
       "365               Brother Meat Shop              Depok      100+ terjual   \n",
       "366               Brother Meat Shop              Depok      500+ terjual   \n",
       "367  Pusat Cuankie & Cemilan Frozen      Jakarta Timur     10rb+ terjual   \n",
       "368                      the Dhecip  Tangerang Selatan      3rb+ terjual   \n",
       "369                      Foodstocks    Jakarta Selatan       60+ terjual   \n",
       "370                     CamilanJati      Kab. Sidoarjo       50+ terjual   \n",
       "371                        Lidigeli         Kab. Garut      250+ terjual   \n",
       "372                        Lidigeli         Kab. Garut      100+ terjual   \n",
       "373                  Baso Aci Ayang         Kab. Garut      3rb+ terjual   \n",
       "374                      the Dhecip  Tangerang Selatan      3rb+ terjual   \n",
       "\n",
       "     Rating Produk  \n",
       "365            5.0  \n",
       "366            4.9  \n",
       "367            4.8  \n",
       "368            4.9  \n",
       "369            5.0  \n",
       "370            5.0  \n",
       "371            4.8  \n",
       "372            4.8  \n",
       "373            4.9  \n",
       "374            4.9  "
      ]
     },
     "execution_count": 7,
     "metadata": {},
     "output_type": "execute_result"
    }
   ],
   "source": [
    "# Menampilkan 10 Data Terbawah\n",
    "df.tail(10)"
   ]
  },
  {
   "cell_type": "code",
   "execution_count": 8,
   "metadata": {},
   "outputs": [
    {
     "data": {
      "text/html": [
       "<div>\n",
       "<style scoped>\n",
       "    .dataframe tbody tr th:only-of-type {\n",
       "        vertical-align: middle;\n",
       "    }\n",
       "\n",
       "    .dataframe tbody tr th {\n",
       "        vertical-align: top;\n",
       "    }\n",
       "\n",
       "    .dataframe thead th {\n",
       "        text-align: right;\n",
       "    }\n",
       "</style>\n",
       "<table border=\"1\" class=\"dataframe\">\n",
       "  <thead>\n",
       "    <tr style=\"text-align: right;\">\n",
       "      <th></th>\n",
       "      <th>Nama Produk</th>\n",
       "      <th>Harga Produk</th>\n",
       "      <th>Penjual</th>\n",
       "      <th>Kota Toko</th>\n",
       "      <th>Banyaknya Terjual</th>\n",
       "      <th>Rating Produk</th>\n",
       "    </tr>\n",
       "  </thead>\n",
       "  <tbody>\n",
       "    <tr>\n",
       "      <th>100</th>\n",
       "      <td>Gelifood Seblak Instan Kerupuk Mawar Bumbu Ken...</td>\n",
       "      <td>Rp15.000</td>\n",
       "      <td>Lidigeli</td>\n",
       "      <td>Kab. Garut</td>\n",
       "      <td>250+ terjual</td>\n",
       "      <td>4.8</td>\n",
       "    </tr>\n",
       "    <tr>\n",
       "      <th>101</th>\n",
       "      <td>Kylafood Seblak Rempah Autentik 115gr, Seblak ...</td>\n",
       "      <td>Rp9.900</td>\n",
       "      <td>Brother Meat Shop</td>\n",
       "      <td>Depok</td>\n",
       "      <td>100+ terjual</td>\n",
       "      <td>5.0</td>\n",
       "    </tr>\n",
       "    <tr>\n",
       "      <th>102</th>\n",
       "      <td>Seblak Rafael, Seblak Coet Instan Halal</td>\n",
       "      <td>Rp23.750</td>\n",
       "      <td>Brother Meat Shop</td>\n",
       "      <td>Depok</td>\n",
       "      <td>500+ terjual</td>\n",
       "      <td>4.9</td>\n",
       "    </tr>\n",
       "    <tr>\n",
       "      <th>103</th>\n",
       "      <td>SEBLAK INSTANT TERMURAH</td>\n",
       "      <td>Rp4.450</td>\n",
       "      <td>Pusat Cuankie &amp; Cemilan Frozen</td>\n",
       "      <td>Jakarta Timur</td>\n",
       "      <td>10rb+ terjual</td>\n",
       "      <td>4.8</td>\n",
       "    </tr>\n",
       "    <tr>\n",
       "      <th>104</th>\n",
       "      <td>Seblak Instan Pedas Home Made</td>\n",
       "      <td>Rp3.500</td>\n",
       "      <td>the Dhecip</td>\n",
       "      <td>Tangerang Selatan</td>\n",
       "      <td>3rb+ terjual</td>\n",
       "      <td>4.9</td>\n",
       "    </tr>\n",
       "    <tr>\n",
       "      <th>105</th>\n",
       "      <td>Seblak Rafael/Seblak Coet Instan Halal</td>\n",
       "      <td>Rp26.600</td>\n",
       "      <td>Foodstocks</td>\n",
       "      <td>Jakarta Selatan</td>\n",
       "      <td>60+ terjual</td>\n",
       "      <td>5.0</td>\n",
       "    </tr>\n",
       "    <tr>\n",
       "      <th>106</th>\n",
       "      <td>[250 gr] Kerupuk Seblak Pedas</td>\n",
       "      <td>Rp11.500</td>\n",
       "      <td>CamilanJati</td>\n",
       "      <td>Kab. Sidoarjo</td>\n",
       "      <td>50+ terjual</td>\n",
       "      <td>5.0</td>\n",
       "    </tr>\n",
       "    <tr>\n",
       "      <th>107</th>\n",
       "      <td>Gelifood Seblak Instan Kerupuk Mawar Bumbu Ken...</td>\n",
       "      <td>Rp15.000</td>\n",
       "      <td>Lidigeli</td>\n",
       "      <td>Kab. Garut</td>\n",
       "      <td>250+ terjual</td>\n",
       "      <td>4.8</td>\n",
       "    </tr>\n",
       "    <tr>\n",
       "      <th>108</th>\n",
       "      <td>Geli Food Seblak Ceker Tanpa Tulang Super Peda...</td>\n",
       "      <td>Rp24.000</td>\n",
       "      <td>Lidigeli</td>\n",
       "      <td>Kab. Garut</td>\n",
       "      <td>100+ terjual</td>\n",
       "      <td>4.8</td>\n",
       "    </tr>\n",
       "    <tr>\n",
       "      <th>109</th>\n",
       "      <td>Seblak Instan Komplit Pedas Gurih Nikmat</td>\n",
       "      <td>Rp5.999</td>\n",
       "      <td>Baso Aci Ayang</td>\n",
       "      <td>Kab. Garut</td>\n",
       "      <td>3rb+ terjual</td>\n",
       "      <td>4.9</td>\n",
       "    </tr>\n",
       "    <tr>\n",
       "      <th>110</th>\n",
       "      <td>Seblak Instan Pedas Home Made</td>\n",
       "      <td>Rp3.500</td>\n",
       "      <td>the Dhecip</td>\n",
       "      <td>Tangerang Selatan</td>\n",
       "      <td>3rb+ terjual</td>\n",
       "      <td>4.9</td>\n",
       "    </tr>\n",
       "    <tr>\n",
       "      <th>111</th>\n",
       "      <td>Seblak Instan Sehati</td>\n",
       "      <td>Rp13.000</td>\n",
       "      <td>NaN</td>\n",
       "      <td>NaN</td>\n",
       "      <td>500+ terjual</td>\n",
       "      <td>NaN</td>\n",
       "    </tr>\n",
       "    <tr>\n",
       "      <th>112</th>\n",
       "      <td>Seblak Koin</td>\n",
       "      <td>Rp17.500</td>\n",
       "      <td>NaN</td>\n",
       "      <td>NaN</td>\n",
       "      <td>500+ terjual</td>\n",
       "      <td>NaN</td>\n",
       "    </tr>\n",
       "    <tr>\n",
       "      <th>113</th>\n",
       "      <td>Kylafood Mix Fav Selebgram Seblak Original &amp; B...</td>\n",
       "      <td>Rp39.000</td>\n",
       "      <td>kylafood</td>\n",
       "      <td>Bandung</td>\n",
       "      <td>100+ terjual</td>\n",
       "      <td>4.8</td>\n",
       "    </tr>\n",
       "    <tr>\n",
       "      <th>114</th>\n",
       "      <td>cuanki tahu panjang atau stik isi 50 pcs topin...</td>\n",
       "      <td>Rp12.999</td>\n",
       "      <td>CUANKI CULAMETAN</td>\n",
       "      <td>Kab. Garut</td>\n",
       "      <td>100+ terjual</td>\n",
       "      <td>4.8</td>\n",
       "    </tr>\n",
       "    <tr>\n",
       "      <th>115</th>\n",
       "      <td>Kylafood Seblak Kwetiaw</td>\n",
       "      <td>Rp20.680</td>\n",
       "      <td>kylafood</td>\n",
       "      <td>Bandung</td>\n",
       "      <td>4rb+ terjual</td>\n",
       "      <td>4.9</td>\n",
       "    </tr>\n",
       "    <tr>\n",
       "      <th>116</th>\n",
       "      <td>Paket Isi 4 Batagor Instan | Makaroni Basah | ...</td>\n",
       "      <td>Rp64.906</td>\n",
       "      <td>Lakoca Official Shop</td>\n",
       "      <td>Cimahi</td>\n",
       "      <td>30+ terjual</td>\n",
       "      <td>4.9</td>\n",
       "    </tr>\n",
       "    <tr>\n",
       "      <th>117</th>\n",
       "      <td>BUMBU BASO ACI SEBLAK 100gr</td>\n",
       "      <td>Rp12.000</td>\n",
       "      <td>jajanangarut19</td>\n",
       "      <td>Jakarta Selatan</td>\n",
       "      <td>250+ terjual</td>\n",
       "      <td>4.9</td>\n",
       "    </tr>\n",
       "    <tr>\n",
       "      <th>118</th>\n",
       "      <td>Seblak Bandung Jawara Pedas</td>\n",
       "      <td>Rp28.000</td>\n",
       "      <td>AkagamiShanks40</td>\n",
       "      <td>Jakarta Pusat</td>\n",
       "      <td>6 terjual</td>\n",
       "      <td>5.0</td>\n",
       "    </tr>\n",
       "    <tr>\n",
       "      <th>119</th>\n",
       "      <td>KERUPUK SEBLAK Aneka Warna PEDAS ... HOT</td>\n",
       "      <td>Rp14.000</td>\n",
       "      <td>KRIUK JAYA</td>\n",
       "      <td>Jakarta Barat</td>\n",
       "      <td>100+ terjual</td>\n",
       "      <td>4.8</td>\n",
       "    </tr>\n",
       "  </tbody>\n",
       "</table>\n",
       "</div>"
      ],
      "text/plain": [
       "                                           Nama Produk Harga Produk  \\\n",
       "100  Gelifood Seblak Instan Kerupuk Mawar Bumbu Ken...     Rp15.000   \n",
       "101  Kylafood Seblak Rempah Autentik 115gr, Seblak ...      Rp9.900   \n",
       "102            Seblak Rafael, Seblak Coet Instan Halal     Rp23.750   \n",
       "103                            SEBLAK INSTANT TERMURAH      Rp4.450   \n",
       "104                      Seblak Instan Pedas Home Made      Rp3.500   \n",
       "105             Seblak Rafael/Seblak Coet Instan Halal     Rp26.600   \n",
       "106                      [250 gr] Kerupuk Seblak Pedas     Rp11.500   \n",
       "107  Gelifood Seblak Instan Kerupuk Mawar Bumbu Ken...     Rp15.000   \n",
       "108  Geli Food Seblak Ceker Tanpa Tulang Super Peda...     Rp24.000   \n",
       "109           Seblak Instan Komplit Pedas Gurih Nikmat      Rp5.999   \n",
       "110                      Seblak Instan Pedas Home Made      Rp3.500   \n",
       "111                               Seblak Instan Sehati     Rp13.000   \n",
       "112                                        Seblak Koin     Rp17.500   \n",
       "113  Kylafood Mix Fav Selebgram Seblak Original & B...     Rp39.000   \n",
       "114  cuanki tahu panjang atau stik isi 50 pcs topin...     Rp12.999   \n",
       "115                            Kylafood Seblak Kwetiaw     Rp20.680   \n",
       "116  Paket Isi 4 Batagor Instan | Makaroni Basah | ...     Rp64.906   \n",
       "117                        BUMBU BASO ACI SEBLAK 100gr     Rp12.000   \n",
       "118                        Seblak Bandung Jawara Pedas     Rp28.000   \n",
       "119           KERUPUK SEBLAK Aneka Warna PEDAS ... HOT     Rp14.000   \n",
       "\n",
       "                            Penjual          Kota Toko Banyaknya Terjual  \\\n",
       "100                        Lidigeli         Kab. Garut      250+ terjual   \n",
       "101               Brother Meat Shop              Depok      100+ terjual   \n",
       "102               Brother Meat Shop              Depok      500+ terjual   \n",
       "103  Pusat Cuankie & Cemilan Frozen      Jakarta Timur     10rb+ terjual   \n",
       "104                      the Dhecip  Tangerang Selatan      3rb+ terjual   \n",
       "105                      Foodstocks    Jakarta Selatan       60+ terjual   \n",
       "106                     CamilanJati      Kab. Sidoarjo       50+ terjual   \n",
       "107                        Lidigeli         Kab. Garut      250+ terjual   \n",
       "108                        Lidigeli         Kab. Garut      100+ terjual   \n",
       "109                  Baso Aci Ayang         Kab. Garut      3rb+ terjual   \n",
       "110                      the Dhecip  Tangerang Selatan      3rb+ terjual   \n",
       "111                             NaN                NaN      500+ terjual   \n",
       "112                             NaN                NaN      500+ terjual   \n",
       "113                        kylafood            Bandung      100+ terjual   \n",
       "114                CUANKI CULAMETAN         Kab. Garut      100+ terjual   \n",
       "115                        kylafood            Bandung      4rb+ terjual   \n",
       "116            Lakoca Official Shop             Cimahi       30+ terjual   \n",
       "117                  jajanangarut19    Jakarta Selatan      250+ terjual   \n",
       "118                 AkagamiShanks40      Jakarta Pusat         6 terjual   \n",
       "119                      KRIUK JAYA      Jakarta Barat      100+ terjual   \n",
       "\n",
       "     Rating Produk  \n",
       "100            4.8  \n",
       "101            5.0  \n",
       "102            4.9  \n",
       "103            4.8  \n",
       "104            4.9  \n",
       "105            5.0  \n",
       "106            5.0  \n",
       "107            4.8  \n",
       "108            4.8  \n",
       "109            4.9  \n",
       "110            4.9  \n",
       "111            NaN  \n",
       "112            NaN  \n",
       "113            4.8  \n",
       "114            4.8  \n",
       "115            4.9  \n",
       "116            4.9  \n",
       "117            4.9  \n",
       "118            5.0  \n",
       "119            4.8  "
      ]
     },
     "execution_count": 8,
     "metadata": {},
     "output_type": "execute_result"
    }
   ],
   "source": [
    "# Menampilkan Data pada Rentang Tertentu\n",
    "df.iloc[100:120]"
   ]
  },
  {
   "cell_type": "code",
   "execution_count": 9,
   "metadata": {},
   "outputs": [
    {
     "data": {
      "text/plain": [
       "Index(['Nama Produk', 'Harga Produk', 'Penjual', 'Kota Toko',\n",
       "       'Banyaknya Terjual', 'Rating Produk'],\n",
       "      dtype='object')"
      ]
     },
     "execution_count": 9,
     "metadata": {},
     "output_type": "execute_result"
    }
   ],
   "source": [
    "# Menampilkan Kolom pada Data\n",
    "df.columns"
   ]
  },
  {
   "cell_type": "code",
   "execution_count": 10,
   "metadata": {},
   "outputs": [
    {
     "data": {
      "text/plain": [
       "(375, 6)"
      ]
     },
     "execution_count": 10,
     "metadata": {},
     "output_type": "execute_result"
    }
   ],
   "source": [
    "# Menampilkan Jumlh Baris dan Kolom\n",
    "df.shape"
   ]
  },
  {
   "cell_type": "markdown",
   "metadata": {},
   "source": [
    "**Interpretasi #3:**\n",
    "\n",
    "Data `Data_Web_Scrapping.csv` akan ditampilkan dengan mengunakan metode pandas dan akan didefenisikan sebagai df. Data ini berisi 375 baris dan 6 kolom. Pada data ini juga terdapat *missing value* pada sebagian kolom\n",
    "\n",
    "---"
   ]
  },
  {
   "cell_type": "markdown",
   "metadata": {},
   "source": [
    "##### Informasi Rangkuman Data"
   ]
  },
  {
   "cell_type": "code",
   "execution_count": 11,
   "metadata": {},
   "outputs": [
    {
     "name": "stdout",
     "output_type": "stream",
     "text": [
      "<class 'pandas.core.frame.DataFrame'>\n",
      "RangeIndex: 375 entries, 0 to 374\n",
      "Data columns (total 6 columns):\n",
      " #   Column             Non-Null Count  Dtype  \n",
      "---  ------             --------------  -----  \n",
      " 0   Nama Produk        375 non-null    object \n",
      " 1   Harga Produk       375 non-null    object \n",
      " 2   Penjual            348 non-null    object \n",
      " 3   Kota Toko          348 non-null    object \n",
      " 4   Banyaknya Terjual  370 non-null    object \n",
      " 5   Rating Produk      363 non-null    float64\n",
      "dtypes: float64(1), object(5)\n",
      "memory usage: 17.7+ KB\n"
     ]
    }
   ],
   "source": [
    "# Menampilkan Informasi Data\n",
    "df.info()"
   ]
  },
  {
   "cell_type": "code",
   "execution_count": 12,
   "metadata": {},
   "outputs": [
    {
     "data": {
      "text/html": [
       "<div>\n",
       "<style scoped>\n",
       "    .dataframe tbody tr th:only-of-type {\n",
       "        vertical-align: middle;\n",
       "    }\n",
       "\n",
       "    .dataframe tbody tr th {\n",
       "        vertical-align: top;\n",
       "    }\n",
       "\n",
       "    .dataframe thead th {\n",
       "        text-align: right;\n",
       "    }\n",
       "</style>\n",
       "<table border=\"1\" class=\"dataframe\">\n",
       "  <thead>\n",
       "    <tr style=\"text-align: right;\">\n",
       "      <th></th>\n",
       "      <th>Rating Produk</th>\n",
       "    </tr>\n",
       "  </thead>\n",
       "  <tbody>\n",
       "    <tr>\n",
       "      <th>count</th>\n",
       "      <td>363.000000</td>\n",
       "    </tr>\n",
       "    <tr>\n",
       "      <th>mean</th>\n",
       "      <td>4.894490</td>\n",
       "    </tr>\n",
       "    <tr>\n",
       "      <th>std</th>\n",
       "      <td>0.093268</td>\n",
       "    </tr>\n",
       "    <tr>\n",
       "      <th>min</th>\n",
       "      <td>4.400000</td>\n",
       "    </tr>\n",
       "    <tr>\n",
       "      <th>25%</th>\n",
       "      <td>4.800000</td>\n",
       "    </tr>\n",
       "    <tr>\n",
       "      <th>50%</th>\n",
       "      <td>4.900000</td>\n",
       "    </tr>\n",
       "    <tr>\n",
       "      <th>75%</th>\n",
       "      <td>5.000000</td>\n",
       "    </tr>\n",
       "    <tr>\n",
       "      <th>max</th>\n",
       "      <td>5.000000</td>\n",
       "    </tr>\n",
       "  </tbody>\n",
       "</table>\n",
       "</div>"
      ],
      "text/plain": [
       "       Rating Produk\n",
       "count     363.000000\n",
       "mean        4.894490\n",
       "std         0.093268\n",
       "min         4.400000\n",
       "25%         4.800000\n",
       "50%         4.900000\n",
       "75%         5.000000\n",
       "max         5.000000"
      ]
     },
     "execution_count": 12,
     "metadata": {},
     "output_type": "execute_result"
    }
   ],
   "source": [
    "# Menampilkan Informasi Statistik Data\n",
    "df.describe()"
   ]
  },
  {
   "cell_type": "code",
   "execution_count": 13,
   "metadata": {},
   "outputs": [
    {
     "data": {
      "text/plain": [
       "Nama Produk          121\n",
       "Harga Produk          93\n",
       "Penjual               72\n",
       "Kota Toko             23\n",
       "Banyaknya Terjual     31\n",
       "Rating Produk          7\n",
       "dtype: int64"
      ]
     },
     "execution_count": 13,
     "metadata": {},
     "output_type": "execute_result"
    }
   ],
   "source": [
    "#Menampilkan Jumlah Nilai Unik pada Data\n",
    "df.nunique()"
   ]
  },
  {
   "cell_type": "code",
   "execution_count": 14,
   "metadata": {},
   "outputs": [
    {
     "data": {
      "text/plain": [
       "Rating Produk\n",
       "4.9    156\n",
       "5.0    104\n",
       "4.8     95\n",
       "4.4      3\n",
       "4.6      2\n",
       "4.7      2\n",
       "4.5      1\n",
       "Name: count, dtype: int64"
      ]
     },
     "execution_count": 14,
     "metadata": {},
     "output_type": "execute_result"
    }
   ],
   "source": [
    "# Menampilkan Nilai Unik pada Rating Produk\n",
    "df.value_counts('Rating Produk')"
   ]
  },
  {
   "cell_type": "code",
   "execution_count": 15,
   "metadata": {},
   "outputs": [
    {
     "data": {
      "text/plain": [
       "Kota Toko\n",
       "Depok                 57\n",
       "Tangerang Selatan     52\n",
       "Kab. Garut            47\n",
       "Jakarta Barat         41\n",
       "Jakarta Selatan       39\n",
       "Jakarta Timur         26\n",
       "Bandung               13\n",
       "Kab. Bandung          12\n",
       "Kab. Bogor            10\n",
       "Kab. Sidoarjo         10\n",
       "Surakarta             10\n",
       "Kab. Tangerang         9\n",
       "Surabaya               5\n",
       "Jakarta Pusat          4\n",
       "Cimahi                 3\n",
       "Tangerang              3\n",
       "Jakarta Utara          1\n",
       "Kab. Bandung Barat     1\n",
       "Bogor                  1\n",
       "Kab. Sleman            1\n",
       "Malang                 1\n",
       "Semarang               1\n",
       "Kab. Bekasi            1\n",
       "Name: count, dtype: int64"
      ]
     },
     "execution_count": 15,
     "metadata": {},
     "output_type": "execute_result"
    }
   ],
   "source": [
    "# Menampilkan Nilai Unik pada Kota Toko \n",
    "df.value_counts('Kota Toko')"
   ]
  },
  {
   "cell_type": "markdown",
   "metadata": {},
   "source": [
    "**Interpretasi #4:**\n",
    "\n",
    "Dari informasi rangkuman data yang didapat dari proses *webscrapping*, masih terlihat `Harga Produk` dan `Banyaknya Penjual` masih dalam bentuk object dimana seharusnya integer. Hal itu disebabkan karena masih terdapat kata Rp dan terjual pada kolom tersebut. Selain itu dilakukan ekspolasi data berupa yaitu menampilan nilai unik pada data. Pada kolom `Rating Produk` didapatkan hasil bahwa beberapa produk seblak yang ada dijual pada Tokopedia memiliki rating 4.5 hingga 5.0. Hal ini menunjukkan bahwa seblak yang dijual banyak dinikmati oleh pelanggan. Selain itu, pada kolom `Kota Toko` terlihat bahwa daerah yang senang untuk mengkonsumsi Seblak adalah Kota Depok dan Tanggerang Selatan. Selain itu, dapat dilihat bahwa jajanan Seblak banyak di produksi dan digemari oleh masyarakat di Pulau Jawa. Hal itu dibuktikan dengan tidak adanya deerah di luar Pulau Jawa"
   ]
  },
  {
   "cell_type": "markdown",
   "metadata": {},
   "source": [
    "##### Menangani *Missing Value*"
   ]
  },
  {
   "cell_type": "code",
   "execution_count": 16,
   "metadata": {},
   "outputs": [
    {
     "data": {
      "text/plain": [
       "Nama Produk           0\n",
       "Harga Produk          0\n",
       "Penjual              27\n",
       "Kota Toko            27\n",
       "Banyaknya Terjual     5\n",
       "Rating Produk        12\n",
       "dtype: int64"
      ]
     },
     "execution_count": 16,
     "metadata": {},
     "output_type": "execute_result"
    }
   ],
   "source": [
    "# Melihat Nilai Missing Value di Setiap Kolom\n",
    "df.isnull().sum()"
   ]
  },
  {
   "cell_type": "markdown",
   "metadata": {},
   "source": [
    "**Interpretasi #5:**\n",
    "\n",
    "Dengan menggunakan metode `isnul` pada data df, diketahui masih terdapat data yang mengalami *Missing Value*. Adapun kolom yang mengalami *missing value* adalah kolom `penjual`, `kota toko`, `banyak terjual` dan `rating produk`. Pada kolom `penjual` dan `kota toko` diketahui penyebabnya dikarenakan adanya struktur halaman web yang kompleks dan beragam, dinamis hingga konektivitas pada jaringan. Sedangkan untuk kolom `banyak terjual` dan `rating produk` dikarenakan masih belum adanya informasi mengenai produk tersebut. Hal itu disebabkan karena produk dijual masih produk yang baru *launching* di pasaran atau produk masih belum dilakukan pembelian oleh *customer*  "
   ]
  },
  {
   "cell_type": "code",
   "execution_count": 17,
   "metadata": {},
   "outputs": [],
   "source": [
    "# Menghapus Nilai Missin Value pada Kolom Penjual\n",
    "df.dropna(subset=[\"Penjual\"], inplace=True)"
   ]
  },
  {
   "cell_type": "code",
   "execution_count": 18,
   "metadata": {},
   "outputs": [
    {
     "data": {
      "text/plain": [
       "Nama Produk          0\n",
       "Harga Produk         0\n",
       "Penjual              0\n",
       "Kota Toko            0\n",
       "Banyaknya Terjual    5\n",
       "Rating Produk        5\n",
       "dtype: int64"
      ]
     },
     "execution_count": 18,
     "metadata": {},
     "output_type": "execute_result"
    }
   ],
   "source": [
    "# Menampilkan Nilai Missing Value Kembali\n",
    "df.isnull().sum()"
   ]
  },
  {
   "cell_type": "code",
   "execution_count": 19,
   "metadata": {},
   "outputs": [
    {
     "data": {
      "text/plain": [
       "(348, 6)"
      ]
     },
     "execution_count": 19,
     "metadata": {},
     "output_type": "execute_result"
    }
   ],
   "source": [
    "# Melihat Bentuk Baris dan Kolom\n",
    "df.shape"
   ]
  },
  {
   "cell_type": "markdown",
   "metadata": {},
   "source": [
    "**Interpretasi #6:**\n",
    "\n",
    "Solusi yang dilakukan untuk menangani nilai *missing value* adalah dengan menghapus jumlah baris pada kolom yang memiliki nilai *missing value*. Nilai yang ingin dihapus adalah yang berada pada `penjual` dan `kota toko`. Hal ini bisa dilakukan karena hanya menghapus 7,2 % dari total data keseluruhan. "
   ]
  },
  {
   "cell_type": "markdown",
   "metadata": {},
   "source": [
    "##### Menangani Nilai String"
   ]
  },
  {
   "cell_type": "code",
   "execution_count": 20,
   "metadata": {},
   "outputs": [
    {
     "data": {
      "text/html": [
       "<div>\n",
       "<style scoped>\n",
       "    .dataframe tbody tr th:only-of-type {\n",
       "        vertical-align: middle;\n",
       "    }\n",
       "\n",
       "    .dataframe tbody tr th {\n",
       "        vertical-align: top;\n",
       "    }\n",
       "\n",
       "    .dataframe thead th {\n",
       "        text-align: right;\n",
       "    }\n",
       "</style>\n",
       "<table border=\"1\" class=\"dataframe\">\n",
       "  <thead>\n",
       "    <tr style=\"text-align: right;\">\n",
       "      <th></th>\n",
       "      <th>Nama Produk</th>\n",
       "      <th>Harga Produk</th>\n",
       "      <th>Penjual</th>\n",
       "      <th>Kota Toko</th>\n",
       "      <th>Banyaknya Terjual</th>\n",
       "      <th>Rating Produk</th>\n",
       "    </tr>\n",
       "  </thead>\n",
       "  <tbody>\n",
       "    <tr>\n",
       "      <th>3</th>\n",
       "      <td>Kylafood Seblak Original</td>\n",
       "      <td>Rp19.800</td>\n",
       "      <td>kylafood</td>\n",
       "      <td>Bandung</td>\n",
       "      <td>10rb+ terjual</td>\n",
       "      <td>4.9</td>\n",
       "    </tr>\n",
       "    <tr>\n",
       "      <th>4</th>\n",
       "      <td>seblak instan jeletot jajanan hits bandung 1 p...</td>\n",
       "      <td>Rp4.180</td>\n",
       "      <td>tokomakanankalimantan</td>\n",
       "      <td>Jakarta Barat</td>\n",
       "      <td>1rb+ terjual</td>\n",
       "      <td>4.8</td>\n",
       "    </tr>\n",
       "    <tr>\n",
       "      <th>5</th>\n",
       "      <td>Seblak Rafael, Seblak Coet Instan Halal</td>\n",
       "      <td>Rp23.750</td>\n",
       "      <td>Brother Meat Shop</td>\n",
       "      <td>Depok</td>\n",
       "      <td>500+ terjual</td>\n",
       "      <td>4.9</td>\n",
       "    </tr>\n",
       "    <tr>\n",
       "      <th>6</th>\n",
       "      <td>Kylafood Seblak Rempah Autentik 115gr, Seblak ...</td>\n",
       "      <td>Rp9.900</td>\n",
       "      <td>Brother Meat Shop</td>\n",
       "      <td>Depok</td>\n",
       "      <td>100+ terjual</td>\n",
       "      <td>5.0</td>\n",
       "    </tr>\n",
       "    <tr>\n",
       "      <th>7</th>\n",
       "      <td>Kerupuk Seblak Pedas Krupuk Pelangi Pedas Sebl...</td>\n",
       "      <td>Rp14.725</td>\n",
       "      <td>toko bemo</td>\n",
       "      <td>Jakarta Timur</td>\n",
       "      <td>500+ terjual</td>\n",
       "      <td>4.9</td>\n",
       "    </tr>\n",
       "  </tbody>\n",
       "</table>\n",
       "</div>"
      ],
      "text/plain": [
       "                                         Nama Produk Harga Produk  \\\n",
       "3                           Kylafood Seblak Original     Rp19.800   \n",
       "4  seblak instan jeletot jajanan hits bandung 1 p...      Rp4.180   \n",
       "5            Seblak Rafael, Seblak Coet Instan Halal     Rp23.750   \n",
       "6  Kylafood Seblak Rempah Autentik 115gr, Seblak ...      Rp9.900   \n",
       "7  Kerupuk Seblak Pedas Krupuk Pelangi Pedas Sebl...     Rp14.725   \n",
       "\n",
       "                 Penjual      Kota Toko Banyaknya Terjual  Rating Produk  \n",
       "3               kylafood        Bandung     10rb+ terjual            4.9  \n",
       "4  tokomakanankalimantan  Jakarta Barat      1rb+ terjual            4.8  \n",
       "5      Brother Meat Shop          Depok      500+ terjual            4.9  \n",
       "6      Brother Meat Shop          Depok      100+ terjual            5.0  \n",
       "7              toko bemo  Jakarta Timur      500+ terjual            4.9  "
      ]
     },
     "execution_count": 20,
     "metadata": {},
     "output_type": "execute_result"
    }
   ],
   "source": [
    "# Melihat Data Teratas Sebelum Menghilangkan Bentuk String\n",
    "df.head()"
   ]
  },
  {
   "cell_type": "code",
   "execution_count": 21,
   "metadata": {},
   "outputs": [
    {
     "data": {
      "text/html": [
       "<div>\n",
       "<style scoped>\n",
       "    .dataframe tbody tr th:only-of-type {\n",
       "        vertical-align: middle;\n",
       "    }\n",
       "\n",
       "    .dataframe tbody tr th {\n",
       "        vertical-align: top;\n",
       "    }\n",
       "\n",
       "    .dataframe thead th {\n",
       "        text-align: right;\n",
       "    }\n",
       "</style>\n",
       "<table border=\"1\" class=\"dataframe\">\n",
       "  <thead>\n",
       "    <tr style=\"text-align: right;\">\n",
       "      <th></th>\n",
       "      <th>Nama Produk</th>\n",
       "      <th>Harga Produk</th>\n",
       "      <th>Penjual</th>\n",
       "      <th>Kota Toko</th>\n",
       "      <th>Banyaknya Terjual</th>\n",
       "      <th>Rating Produk</th>\n",
       "    </tr>\n",
       "  </thead>\n",
       "  <tbody>\n",
       "    <tr>\n",
       "      <th>370</th>\n",
       "      <td>[250 gr] Kerupuk Seblak Pedas</td>\n",
       "      <td>Rp11.500</td>\n",
       "      <td>CamilanJati</td>\n",
       "      <td>Kab. Sidoarjo</td>\n",
       "      <td>50+ terjual</td>\n",
       "      <td>5.0</td>\n",
       "    </tr>\n",
       "    <tr>\n",
       "      <th>371</th>\n",
       "      <td>Gelifood Seblak Instan Kerupuk Mawar Bumbu Ken...</td>\n",
       "      <td>Rp15.000</td>\n",
       "      <td>Lidigeli</td>\n",
       "      <td>Kab. Garut</td>\n",
       "      <td>250+ terjual</td>\n",
       "      <td>4.8</td>\n",
       "    </tr>\n",
       "    <tr>\n",
       "      <th>372</th>\n",
       "      <td>Geli Food Seblak Ceker Tanpa Tulang Super Peda...</td>\n",
       "      <td>Rp24.000</td>\n",
       "      <td>Lidigeli</td>\n",
       "      <td>Kab. Garut</td>\n",
       "      <td>100+ terjual</td>\n",
       "      <td>4.8</td>\n",
       "    </tr>\n",
       "    <tr>\n",
       "      <th>373</th>\n",
       "      <td>Seblak Instan Komplit Pedas Gurih Nikmat</td>\n",
       "      <td>Rp5.999</td>\n",
       "      <td>Baso Aci Ayang</td>\n",
       "      <td>Kab. Garut</td>\n",
       "      <td>3rb+ terjual</td>\n",
       "      <td>4.9</td>\n",
       "    </tr>\n",
       "    <tr>\n",
       "      <th>374</th>\n",
       "      <td>Seblak Instan Pedas Home Made</td>\n",
       "      <td>Rp3.500</td>\n",
       "      <td>the Dhecip</td>\n",
       "      <td>Tangerang Selatan</td>\n",
       "      <td>3rb+ terjual</td>\n",
       "      <td>4.9</td>\n",
       "    </tr>\n",
       "  </tbody>\n",
       "</table>\n",
       "</div>"
      ],
      "text/plain": [
       "                                           Nama Produk Harga Produk  \\\n",
       "370                      [250 gr] Kerupuk Seblak Pedas     Rp11.500   \n",
       "371  Gelifood Seblak Instan Kerupuk Mawar Bumbu Ken...     Rp15.000   \n",
       "372  Geli Food Seblak Ceker Tanpa Tulang Super Peda...     Rp24.000   \n",
       "373           Seblak Instan Komplit Pedas Gurih Nikmat      Rp5.999   \n",
       "374                      Seblak Instan Pedas Home Made      Rp3.500   \n",
       "\n",
       "            Penjual          Kota Toko Banyaknya Terjual  Rating Produk  \n",
       "370     CamilanJati      Kab. Sidoarjo       50+ terjual            5.0  \n",
       "371        Lidigeli         Kab. Garut      250+ terjual            4.8  \n",
       "372        Lidigeli         Kab. Garut      100+ terjual            4.8  \n",
       "373  Baso Aci Ayang         Kab. Garut      3rb+ terjual            4.9  \n",
       "374      the Dhecip  Tangerang Selatan      3rb+ terjual            4.9  "
      ]
     },
     "execution_count": 21,
     "metadata": {},
     "output_type": "execute_result"
    }
   ],
   "source": [
    "# Melihat Data Terbawah Sebelum Menghilangkan Bentuk String\n",
    "df.tail()"
   ]
  },
  {
   "cell_type": "code",
   "execution_count": 22,
   "metadata": {},
   "outputs": [
    {
     "data": {
      "text/html": [
       "<div>\n",
       "<style scoped>\n",
       "    .dataframe tbody tr th:only-of-type {\n",
       "        vertical-align: middle;\n",
       "    }\n",
       "\n",
       "    .dataframe tbody tr th {\n",
       "        vertical-align: top;\n",
       "    }\n",
       "\n",
       "    .dataframe thead th {\n",
       "        text-align: right;\n",
       "    }\n",
       "</style>\n",
       "<table border=\"1\" class=\"dataframe\">\n",
       "  <thead>\n",
       "    <tr style=\"text-align: right;\">\n",
       "      <th></th>\n",
       "      <th>Nama Produk</th>\n",
       "      <th>Harga Produk</th>\n",
       "      <th>Penjual</th>\n",
       "      <th>Kota Toko</th>\n",
       "      <th>Banyaknya Terjual</th>\n",
       "      <th>Rating Produk</th>\n",
       "    </tr>\n",
       "  </thead>\n",
       "  <tbody>\n",
       "    <tr>\n",
       "      <th>108</th>\n",
       "      <td>Geli Food Seblak Ceker Tanpa Tulang Super Peda...</td>\n",
       "      <td>Rp24.000</td>\n",
       "      <td>Lidigeli</td>\n",
       "      <td>Kab. Garut</td>\n",
       "      <td>100+ terjual</td>\n",
       "      <td>4.8</td>\n",
       "    </tr>\n",
       "    <tr>\n",
       "      <th>109</th>\n",
       "      <td>Seblak Instan Komplit Pedas Gurih Nikmat</td>\n",
       "      <td>Rp5.999</td>\n",
       "      <td>Baso Aci Ayang</td>\n",
       "      <td>Kab. Garut</td>\n",
       "      <td>3rb+ terjual</td>\n",
       "      <td>4.9</td>\n",
       "    </tr>\n",
       "    <tr>\n",
       "      <th>110</th>\n",
       "      <td>Seblak Instan Pedas Home Made</td>\n",
       "      <td>Rp3.500</td>\n",
       "      <td>the Dhecip</td>\n",
       "      <td>Tangerang Selatan</td>\n",
       "      <td>3rb+ terjual</td>\n",
       "      <td>4.9</td>\n",
       "    </tr>\n",
       "    <tr>\n",
       "      <th>113</th>\n",
       "      <td>Kylafood Mix Fav Selebgram Seblak Original &amp; B...</td>\n",
       "      <td>Rp39.000</td>\n",
       "      <td>kylafood</td>\n",
       "      <td>Bandung</td>\n",
       "      <td>100+ terjual</td>\n",
       "      <td>4.8</td>\n",
       "    </tr>\n",
       "    <tr>\n",
       "      <th>114</th>\n",
       "      <td>cuanki tahu panjang atau stik isi 50 pcs topin...</td>\n",
       "      <td>Rp12.999</td>\n",
       "      <td>CUANKI CULAMETAN</td>\n",
       "      <td>Kab. Garut</td>\n",
       "      <td>100+ terjual</td>\n",
       "      <td>4.8</td>\n",
       "    </tr>\n",
       "    <tr>\n",
       "      <th>115</th>\n",
       "      <td>Kylafood Seblak Kwetiaw</td>\n",
       "      <td>Rp20.680</td>\n",
       "      <td>kylafood</td>\n",
       "      <td>Bandung</td>\n",
       "      <td>4rb+ terjual</td>\n",
       "      <td>4.9</td>\n",
       "    </tr>\n",
       "    <tr>\n",
       "      <th>116</th>\n",
       "      <td>Paket Isi 4 Batagor Instan | Makaroni Basah | ...</td>\n",
       "      <td>Rp64.906</td>\n",
       "      <td>Lakoca Official Shop</td>\n",
       "      <td>Cimahi</td>\n",
       "      <td>30+ terjual</td>\n",
       "      <td>4.9</td>\n",
       "    </tr>\n",
       "    <tr>\n",
       "      <th>117</th>\n",
       "      <td>BUMBU BASO ACI SEBLAK 100gr</td>\n",
       "      <td>Rp12.000</td>\n",
       "      <td>jajanangarut19</td>\n",
       "      <td>Jakarta Selatan</td>\n",
       "      <td>250+ terjual</td>\n",
       "      <td>4.9</td>\n",
       "    </tr>\n",
       "    <tr>\n",
       "      <th>118</th>\n",
       "      <td>Seblak Bandung Jawara Pedas</td>\n",
       "      <td>Rp28.000</td>\n",
       "      <td>AkagamiShanks40</td>\n",
       "      <td>Jakarta Pusat</td>\n",
       "      <td>6 terjual</td>\n",
       "      <td>5.0</td>\n",
       "    </tr>\n",
       "    <tr>\n",
       "      <th>119</th>\n",
       "      <td>KERUPUK SEBLAK Aneka Warna PEDAS ... HOT</td>\n",
       "      <td>Rp14.000</td>\n",
       "      <td>KRIUK JAYA</td>\n",
       "      <td>Jakarta Barat</td>\n",
       "      <td>100+ terjual</td>\n",
       "      <td>4.8</td>\n",
       "    </tr>\n",
       "    <tr>\n",
       "      <th>120</th>\n",
       "      <td>Muria Snack Seblak Stick Cabe Merah x 10pcs (B...</td>\n",
       "      <td>Rp55.000</td>\n",
       "      <td>Merbabu Food</td>\n",
       "      <td>Tangerang Selatan</td>\n",
       "      <td>10 terjual</td>\n",
       "      <td>5.0</td>\n",
       "    </tr>\n",
       "    <tr>\n",
       "      <th>121</th>\n",
       "      <td>Seblak Putih Pedas / Kerupuk Bawang Pedas Odjo...</td>\n",
       "      <td>Rp9.000</td>\n",
       "      <td>The Little Snacks</td>\n",
       "      <td>Tangerang Selatan</td>\n",
       "      <td>1rb+ terjual</td>\n",
       "      <td>4.9</td>\n",
       "    </tr>\n",
       "    <tr>\n",
       "      <th>122</th>\n",
       "      <td>COMBO HALU! 3PC SEBLAK MIE HALU - EMAK INDAH FOOD</td>\n",
       "      <td>Rp59.400</td>\n",
       "      <td>Pempek Emak Indah</td>\n",
       "      <td>Jakarta Barat</td>\n",
       "      <td>25 terjual</td>\n",
       "      <td>5.0</td>\n",
       "    </tr>\n",
       "    <tr>\n",
       "      <th>123</th>\n",
       "      <td>SEBLAK INSTANT TERMURAH</td>\n",
       "      <td>Rp4.450</td>\n",
       "      <td>Pusat Cuankie &amp; Cemilan Frozen</td>\n",
       "      <td>Jakarta Timur</td>\n",
       "      <td>10rb+ terjual</td>\n",
       "      <td>4.8</td>\n",
       "    </tr>\n",
       "    <tr>\n",
       "      <th>124</th>\n",
       "      <td>Seblak Rafael, Seblak Coet Instan Halal</td>\n",
       "      <td>Rp23.750</td>\n",
       "      <td>Brother Meat Shop</td>\n",
       "      <td>Depok</td>\n",
       "      <td>500+ terjual</td>\n",
       "      <td>4.9</td>\n",
       "    </tr>\n",
       "    <tr>\n",
       "      <th>125</th>\n",
       "      <td>Seblak Instan Pedas Home Made</td>\n",
       "      <td>Rp3.500</td>\n",
       "      <td>the Dhecip</td>\n",
       "      <td>Tangerang Selatan</td>\n",
       "      <td>3rb+ terjual</td>\n",
       "      <td>4.9</td>\n",
       "    </tr>\n",
       "    <tr>\n",
       "      <th>126</th>\n",
       "      <td>Seblak Rafael/Seblak Coet Instan Halal</td>\n",
       "      <td>Rp26.600</td>\n",
       "      <td>Foodstocks</td>\n",
       "      <td>Jakarta Selatan</td>\n",
       "      <td>60+ terjual</td>\n",
       "      <td>5.0</td>\n",
       "    </tr>\n",
       "    <tr>\n",
       "      <th>127</th>\n",
       "      <td>Kylafood Seblak Rempah Autentik 115gr, Seblak ...</td>\n",
       "      <td>Rp9.900</td>\n",
       "      <td>Brother Meat Shop</td>\n",
       "      <td>Depok</td>\n",
       "      <td>100+ terjual</td>\n",
       "      <td>5.0</td>\n",
       "    </tr>\n",
       "    <tr>\n",
       "      <th>128</th>\n",
       "      <td>KERUPUK SEBLAK PEDAS / KRUPUK SEBLAK KERING DA...</td>\n",
       "      <td>Rp25.000</td>\n",
       "      <td>LEGIT SNACK</td>\n",
       "      <td>Jakarta Barat</td>\n",
       "      <td>70+ terjual</td>\n",
       "      <td>4.9</td>\n",
       "    </tr>\n",
       "    <tr>\n",
       "      <th>129</th>\n",
       "      <td>Kerupuk Seblak / Seblak / Kering Pedas /</td>\n",
       "      <td>Rp10.000</td>\n",
       "      <td>Anggris store</td>\n",
       "      <td>Kab. Bogor</td>\n",
       "      <td>50+ terjual</td>\n",
       "      <td>4.8</td>\n",
       "    </tr>\n",
       "  </tbody>\n",
       "</table>\n",
       "</div>"
      ],
      "text/plain": [
       "                                           Nama Produk Harga Produk  \\\n",
       "108  Geli Food Seblak Ceker Tanpa Tulang Super Peda...     Rp24.000   \n",
       "109           Seblak Instan Komplit Pedas Gurih Nikmat      Rp5.999   \n",
       "110                      Seblak Instan Pedas Home Made      Rp3.500   \n",
       "113  Kylafood Mix Fav Selebgram Seblak Original & B...     Rp39.000   \n",
       "114  cuanki tahu panjang atau stik isi 50 pcs topin...     Rp12.999   \n",
       "115                            Kylafood Seblak Kwetiaw     Rp20.680   \n",
       "116  Paket Isi 4 Batagor Instan | Makaroni Basah | ...     Rp64.906   \n",
       "117                        BUMBU BASO ACI SEBLAK 100gr     Rp12.000   \n",
       "118                        Seblak Bandung Jawara Pedas     Rp28.000   \n",
       "119           KERUPUK SEBLAK Aneka Warna PEDAS ... HOT     Rp14.000   \n",
       "120  Muria Snack Seblak Stick Cabe Merah x 10pcs (B...     Rp55.000   \n",
       "121  Seblak Putih Pedas / Kerupuk Bawang Pedas Odjo...      Rp9.000   \n",
       "122  COMBO HALU! 3PC SEBLAK MIE HALU - EMAK INDAH FOOD     Rp59.400   \n",
       "123                            SEBLAK INSTANT TERMURAH      Rp4.450   \n",
       "124            Seblak Rafael, Seblak Coet Instan Halal     Rp23.750   \n",
       "125                      Seblak Instan Pedas Home Made      Rp3.500   \n",
       "126             Seblak Rafael/Seblak Coet Instan Halal     Rp26.600   \n",
       "127  Kylafood Seblak Rempah Autentik 115gr, Seblak ...      Rp9.900   \n",
       "128  KERUPUK SEBLAK PEDAS / KRUPUK SEBLAK KERING DA...     Rp25.000   \n",
       "129           Kerupuk Seblak / Seblak / Kering Pedas /     Rp10.000   \n",
       "\n",
       "                            Penjual          Kota Toko Banyaknya Terjual  \\\n",
       "108                        Lidigeli         Kab. Garut      100+ terjual   \n",
       "109                  Baso Aci Ayang         Kab. Garut      3rb+ terjual   \n",
       "110                      the Dhecip  Tangerang Selatan      3rb+ terjual   \n",
       "113                        kylafood            Bandung      100+ terjual   \n",
       "114                CUANKI CULAMETAN         Kab. Garut      100+ terjual   \n",
       "115                        kylafood            Bandung      4rb+ terjual   \n",
       "116            Lakoca Official Shop             Cimahi       30+ terjual   \n",
       "117                  jajanangarut19    Jakarta Selatan      250+ terjual   \n",
       "118                 AkagamiShanks40      Jakarta Pusat         6 terjual   \n",
       "119                      KRIUK JAYA      Jakarta Barat      100+ terjual   \n",
       "120                    Merbabu Food  Tangerang Selatan        10 terjual   \n",
       "121               The Little Snacks  Tangerang Selatan      1rb+ terjual   \n",
       "122               Pempek Emak Indah      Jakarta Barat        25 terjual   \n",
       "123  Pusat Cuankie & Cemilan Frozen      Jakarta Timur     10rb+ terjual   \n",
       "124               Brother Meat Shop              Depok      500+ terjual   \n",
       "125                      the Dhecip  Tangerang Selatan      3rb+ terjual   \n",
       "126                      Foodstocks    Jakarta Selatan       60+ terjual   \n",
       "127               Brother Meat Shop              Depok      100+ terjual   \n",
       "128                     LEGIT SNACK      Jakarta Barat       70+ terjual   \n",
       "129                   Anggris store         Kab. Bogor       50+ terjual   \n",
       "\n",
       "     Rating Produk  \n",
       "108            4.8  \n",
       "109            4.9  \n",
       "110            4.9  \n",
       "113            4.8  \n",
       "114            4.8  \n",
       "115            4.9  \n",
       "116            4.9  \n",
       "117            4.9  \n",
       "118            5.0  \n",
       "119            4.8  \n",
       "120            5.0  \n",
       "121            4.9  \n",
       "122            5.0  \n",
       "123            4.8  \n",
       "124            4.9  \n",
       "125            4.9  \n",
       "126            5.0  \n",
       "127            5.0  \n",
       "128            4.9  \n",
       "129            4.8  "
      ]
     },
     "execution_count": 22,
     "metadata": {},
     "output_type": "execute_result"
    }
   ],
   "source": [
    "# Melihat Data Tertentu Sebelum Menghilangkan Bentuk String\n",
    "df.iloc[100:120]"
   ]
  },
  {
   "cell_type": "code",
   "execution_count": 23,
   "metadata": {},
   "outputs": [],
   "source": [
    "# Menghapus Tanda Rp dan . pada Harga Produk\n",
    "df['Harga Produk'] = df['Harga Produk'].str.replace('Rp', '').str.replace('.', '').astype(int)"
   ]
  },
  {
   "cell_type": "code",
   "execution_count": 24,
   "metadata": {},
   "outputs": [],
   "source": [
    "# Menghapus Karakter 'rb+ terjual' '+ terjual', dan Mengubah Tipe Data Kolom Menjadi Numerik\n",
    "df['Banyaknya Terjual'] = df['Banyaknya Terjual'].str.replace('rb\\+ terjual', '000', regex=True)\n",
    "df['Banyaknya Terjual'] = df['Banyaknya Terjual'].str.replace('\\+ terjual', '', regex=True)\n",
    "\n",
    "# Menghapus Karakter Non-digit dari String, Kemudian Mengonversi ke Integer\n",
    "df['Banyaknya Terjual'] = df['Banyaknya Terjual'].str.extract('(\\d+)').astype(float)\n",
    "\n",
    "# Mengubah NaN menjadi 0 dan mengonversi ke integer\n",
    "df['Banyaknya Terjual'] = df['Banyaknya Terjual'].fillna(0).astype(int)"
   ]
  },
  {
   "cell_type": "code",
   "execution_count": 25,
   "metadata": {},
   "outputs": [
    {
     "data": {
      "text/html": [
       "<div>\n",
       "<style scoped>\n",
       "    .dataframe tbody tr th:only-of-type {\n",
       "        vertical-align: middle;\n",
       "    }\n",
       "\n",
       "    .dataframe tbody tr th {\n",
       "        vertical-align: top;\n",
       "    }\n",
       "\n",
       "    .dataframe thead th {\n",
       "        text-align: right;\n",
       "    }\n",
       "</style>\n",
       "<table border=\"1\" class=\"dataframe\">\n",
       "  <thead>\n",
       "    <tr style=\"text-align: right;\">\n",
       "      <th></th>\n",
       "      <th>Nama Produk</th>\n",
       "      <th>Harga Produk</th>\n",
       "      <th>Penjual</th>\n",
       "      <th>Kota Toko</th>\n",
       "      <th>Banyaknya Terjual</th>\n",
       "      <th>Rating Produk</th>\n",
       "    </tr>\n",
       "  </thead>\n",
       "  <tbody>\n",
       "    <tr>\n",
       "      <th>3</th>\n",
       "      <td>Kylafood Seblak Original</td>\n",
       "      <td>19800</td>\n",
       "      <td>kylafood</td>\n",
       "      <td>Bandung</td>\n",
       "      <td>10000</td>\n",
       "      <td>4.9</td>\n",
       "    </tr>\n",
       "    <tr>\n",
       "      <th>4</th>\n",
       "      <td>seblak instan jeletot jajanan hits bandung 1 p...</td>\n",
       "      <td>4180</td>\n",
       "      <td>tokomakanankalimantan</td>\n",
       "      <td>Jakarta Barat</td>\n",
       "      <td>1000</td>\n",
       "      <td>4.8</td>\n",
       "    </tr>\n",
       "    <tr>\n",
       "      <th>5</th>\n",
       "      <td>Seblak Rafael, Seblak Coet Instan Halal</td>\n",
       "      <td>23750</td>\n",
       "      <td>Brother Meat Shop</td>\n",
       "      <td>Depok</td>\n",
       "      <td>500</td>\n",
       "      <td>4.9</td>\n",
       "    </tr>\n",
       "    <tr>\n",
       "      <th>6</th>\n",
       "      <td>Kylafood Seblak Rempah Autentik 115gr, Seblak ...</td>\n",
       "      <td>9900</td>\n",
       "      <td>Brother Meat Shop</td>\n",
       "      <td>Depok</td>\n",
       "      <td>100</td>\n",
       "      <td>5.0</td>\n",
       "    </tr>\n",
       "    <tr>\n",
       "      <th>7</th>\n",
       "      <td>Kerupuk Seblak Pedas Krupuk Pelangi Pedas Sebl...</td>\n",
       "      <td>14725</td>\n",
       "      <td>toko bemo</td>\n",
       "      <td>Jakarta Timur</td>\n",
       "      <td>500</td>\n",
       "      <td>4.9</td>\n",
       "    </tr>\n",
       "  </tbody>\n",
       "</table>\n",
       "</div>"
      ],
      "text/plain": [
       "                                         Nama Produk  Harga Produk  \\\n",
       "3                           Kylafood Seblak Original         19800   \n",
       "4  seblak instan jeletot jajanan hits bandung 1 p...          4180   \n",
       "5            Seblak Rafael, Seblak Coet Instan Halal         23750   \n",
       "6  Kylafood Seblak Rempah Autentik 115gr, Seblak ...          9900   \n",
       "7  Kerupuk Seblak Pedas Krupuk Pelangi Pedas Sebl...         14725   \n",
       "\n",
       "                 Penjual      Kota Toko  Banyaknya Terjual  Rating Produk  \n",
       "3               kylafood        Bandung              10000            4.9  \n",
       "4  tokomakanankalimantan  Jakarta Barat               1000            4.8  \n",
       "5      Brother Meat Shop          Depok                500            4.9  \n",
       "6      Brother Meat Shop          Depok                100            5.0  \n",
       "7              toko bemo  Jakarta Timur                500            4.9  "
      ]
     },
     "execution_count": 25,
     "metadata": {},
     "output_type": "execute_result"
    }
   ],
   "source": [
    "# Melihat Data Teratas Setelah Menghilangkan Bentuk String\n",
    "df.head()"
   ]
  },
  {
   "cell_type": "code",
   "execution_count": 26,
   "metadata": {},
   "outputs": [
    {
     "data": {
      "text/html": [
       "<div>\n",
       "<style scoped>\n",
       "    .dataframe tbody tr th:only-of-type {\n",
       "        vertical-align: middle;\n",
       "    }\n",
       "\n",
       "    .dataframe tbody tr th {\n",
       "        vertical-align: top;\n",
       "    }\n",
       "\n",
       "    .dataframe thead th {\n",
       "        text-align: right;\n",
       "    }\n",
       "</style>\n",
       "<table border=\"1\" class=\"dataframe\">\n",
       "  <thead>\n",
       "    <tr style=\"text-align: right;\">\n",
       "      <th></th>\n",
       "      <th>Nama Produk</th>\n",
       "      <th>Harga Produk</th>\n",
       "      <th>Penjual</th>\n",
       "      <th>Kota Toko</th>\n",
       "      <th>Banyaknya Terjual</th>\n",
       "      <th>Rating Produk</th>\n",
       "    </tr>\n",
       "  </thead>\n",
       "  <tbody>\n",
       "    <tr>\n",
       "      <th>370</th>\n",
       "      <td>[250 gr] Kerupuk Seblak Pedas</td>\n",
       "      <td>11500</td>\n",
       "      <td>CamilanJati</td>\n",
       "      <td>Kab. Sidoarjo</td>\n",
       "      <td>50</td>\n",
       "      <td>5.0</td>\n",
       "    </tr>\n",
       "    <tr>\n",
       "      <th>371</th>\n",
       "      <td>Gelifood Seblak Instan Kerupuk Mawar Bumbu Ken...</td>\n",
       "      <td>15000</td>\n",
       "      <td>Lidigeli</td>\n",
       "      <td>Kab. Garut</td>\n",
       "      <td>250</td>\n",
       "      <td>4.8</td>\n",
       "    </tr>\n",
       "    <tr>\n",
       "      <th>372</th>\n",
       "      <td>Geli Food Seblak Ceker Tanpa Tulang Super Peda...</td>\n",
       "      <td>24000</td>\n",
       "      <td>Lidigeli</td>\n",
       "      <td>Kab. Garut</td>\n",
       "      <td>100</td>\n",
       "      <td>4.8</td>\n",
       "    </tr>\n",
       "    <tr>\n",
       "      <th>373</th>\n",
       "      <td>Seblak Instan Komplit Pedas Gurih Nikmat</td>\n",
       "      <td>5999</td>\n",
       "      <td>Baso Aci Ayang</td>\n",
       "      <td>Kab. Garut</td>\n",
       "      <td>3000</td>\n",
       "      <td>4.9</td>\n",
       "    </tr>\n",
       "    <tr>\n",
       "      <th>374</th>\n",
       "      <td>Seblak Instan Pedas Home Made</td>\n",
       "      <td>3500</td>\n",
       "      <td>the Dhecip</td>\n",
       "      <td>Tangerang Selatan</td>\n",
       "      <td>3000</td>\n",
       "      <td>4.9</td>\n",
       "    </tr>\n",
       "  </tbody>\n",
       "</table>\n",
       "</div>"
      ],
      "text/plain": [
       "                                           Nama Produk  Harga Produk  \\\n",
       "370                      [250 gr] Kerupuk Seblak Pedas         11500   \n",
       "371  Gelifood Seblak Instan Kerupuk Mawar Bumbu Ken...         15000   \n",
       "372  Geli Food Seblak Ceker Tanpa Tulang Super Peda...         24000   \n",
       "373           Seblak Instan Komplit Pedas Gurih Nikmat          5999   \n",
       "374                      Seblak Instan Pedas Home Made          3500   \n",
       "\n",
       "            Penjual          Kota Toko  Banyaknya Terjual  Rating Produk  \n",
       "370     CamilanJati      Kab. Sidoarjo                 50            5.0  \n",
       "371        Lidigeli         Kab. Garut                250            4.8  \n",
       "372        Lidigeli         Kab. Garut                100            4.8  \n",
       "373  Baso Aci Ayang         Kab. Garut               3000            4.9  \n",
       "374      the Dhecip  Tangerang Selatan               3000            4.9  "
      ]
     },
     "execution_count": 26,
     "metadata": {},
     "output_type": "execute_result"
    }
   ],
   "source": [
    "# Melihat Data Terbawah Sebelum Menghilangkan Bentuk String\n",
    "df.tail()"
   ]
  },
  {
   "cell_type": "code",
   "execution_count": 27,
   "metadata": {},
   "outputs": [
    {
     "data": {
      "text/html": [
       "<div>\n",
       "<style scoped>\n",
       "    .dataframe tbody tr th:only-of-type {\n",
       "        vertical-align: middle;\n",
       "    }\n",
       "\n",
       "    .dataframe tbody tr th {\n",
       "        vertical-align: top;\n",
       "    }\n",
       "\n",
       "    .dataframe thead th {\n",
       "        text-align: right;\n",
       "    }\n",
       "</style>\n",
       "<table border=\"1\" class=\"dataframe\">\n",
       "  <thead>\n",
       "    <tr style=\"text-align: right;\">\n",
       "      <th></th>\n",
       "      <th>Nama Produk</th>\n",
       "      <th>Harga Produk</th>\n",
       "      <th>Penjual</th>\n",
       "      <th>Kota Toko</th>\n",
       "      <th>Banyaknya Terjual</th>\n",
       "      <th>Rating Produk</th>\n",
       "    </tr>\n",
       "  </thead>\n",
       "  <tbody>\n",
       "    <tr>\n",
       "      <th>108</th>\n",
       "      <td>Geli Food Seblak Ceker Tanpa Tulang Super Peda...</td>\n",
       "      <td>24000</td>\n",
       "      <td>Lidigeli</td>\n",
       "      <td>Kab. Garut</td>\n",
       "      <td>100</td>\n",
       "      <td>4.8</td>\n",
       "    </tr>\n",
       "    <tr>\n",
       "      <th>109</th>\n",
       "      <td>Seblak Instan Komplit Pedas Gurih Nikmat</td>\n",
       "      <td>5999</td>\n",
       "      <td>Baso Aci Ayang</td>\n",
       "      <td>Kab. Garut</td>\n",
       "      <td>3000</td>\n",
       "      <td>4.9</td>\n",
       "    </tr>\n",
       "    <tr>\n",
       "      <th>110</th>\n",
       "      <td>Seblak Instan Pedas Home Made</td>\n",
       "      <td>3500</td>\n",
       "      <td>the Dhecip</td>\n",
       "      <td>Tangerang Selatan</td>\n",
       "      <td>3000</td>\n",
       "      <td>4.9</td>\n",
       "    </tr>\n",
       "    <tr>\n",
       "      <th>113</th>\n",
       "      <td>Kylafood Mix Fav Selebgram Seblak Original &amp; B...</td>\n",
       "      <td>39000</td>\n",
       "      <td>kylafood</td>\n",
       "      <td>Bandung</td>\n",
       "      <td>100</td>\n",
       "      <td>4.8</td>\n",
       "    </tr>\n",
       "    <tr>\n",
       "      <th>114</th>\n",
       "      <td>cuanki tahu panjang atau stik isi 50 pcs topin...</td>\n",
       "      <td>12999</td>\n",
       "      <td>CUANKI CULAMETAN</td>\n",
       "      <td>Kab. Garut</td>\n",
       "      <td>100</td>\n",
       "      <td>4.8</td>\n",
       "    </tr>\n",
       "    <tr>\n",
       "      <th>115</th>\n",
       "      <td>Kylafood Seblak Kwetiaw</td>\n",
       "      <td>20680</td>\n",
       "      <td>kylafood</td>\n",
       "      <td>Bandung</td>\n",
       "      <td>4000</td>\n",
       "      <td>4.9</td>\n",
       "    </tr>\n",
       "    <tr>\n",
       "      <th>116</th>\n",
       "      <td>Paket Isi 4 Batagor Instan | Makaroni Basah | ...</td>\n",
       "      <td>64906</td>\n",
       "      <td>Lakoca Official Shop</td>\n",
       "      <td>Cimahi</td>\n",
       "      <td>30</td>\n",
       "      <td>4.9</td>\n",
       "    </tr>\n",
       "    <tr>\n",
       "      <th>117</th>\n",
       "      <td>BUMBU BASO ACI SEBLAK 100gr</td>\n",
       "      <td>12000</td>\n",
       "      <td>jajanangarut19</td>\n",
       "      <td>Jakarta Selatan</td>\n",
       "      <td>250</td>\n",
       "      <td>4.9</td>\n",
       "    </tr>\n",
       "    <tr>\n",
       "      <th>118</th>\n",
       "      <td>Seblak Bandung Jawara Pedas</td>\n",
       "      <td>28000</td>\n",
       "      <td>AkagamiShanks40</td>\n",
       "      <td>Jakarta Pusat</td>\n",
       "      <td>6</td>\n",
       "      <td>5.0</td>\n",
       "    </tr>\n",
       "    <tr>\n",
       "      <th>119</th>\n",
       "      <td>KERUPUK SEBLAK Aneka Warna PEDAS ... HOT</td>\n",
       "      <td>14000</td>\n",
       "      <td>KRIUK JAYA</td>\n",
       "      <td>Jakarta Barat</td>\n",
       "      <td>100</td>\n",
       "      <td>4.8</td>\n",
       "    </tr>\n",
       "    <tr>\n",
       "      <th>120</th>\n",
       "      <td>Muria Snack Seblak Stick Cabe Merah x 10pcs (B...</td>\n",
       "      <td>55000</td>\n",
       "      <td>Merbabu Food</td>\n",
       "      <td>Tangerang Selatan</td>\n",
       "      <td>10</td>\n",
       "      <td>5.0</td>\n",
       "    </tr>\n",
       "    <tr>\n",
       "      <th>121</th>\n",
       "      <td>Seblak Putih Pedas / Kerupuk Bawang Pedas Odjo...</td>\n",
       "      <td>9000</td>\n",
       "      <td>The Little Snacks</td>\n",
       "      <td>Tangerang Selatan</td>\n",
       "      <td>1000</td>\n",
       "      <td>4.9</td>\n",
       "    </tr>\n",
       "    <tr>\n",
       "      <th>122</th>\n",
       "      <td>COMBO HALU! 3PC SEBLAK MIE HALU - EMAK INDAH FOOD</td>\n",
       "      <td>59400</td>\n",
       "      <td>Pempek Emak Indah</td>\n",
       "      <td>Jakarta Barat</td>\n",
       "      <td>25</td>\n",
       "      <td>5.0</td>\n",
       "    </tr>\n",
       "    <tr>\n",
       "      <th>123</th>\n",
       "      <td>SEBLAK INSTANT TERMURAH</td>\n",
       "      <td>4450</td>\n",
       "      <td>Pusat Cuankie &amp; Cemilan Frozen</td>\n",
       "      <td>Jakarta Timur</td>\n",
       "      <td>10000</td>\n",
       "      <td>4.8</td>\n",
       "    </tr>\n",
       "    <tr>\n",
       "      <th>124</th>\n",
       "      <td>Seblak Rafael, Seblak Coet Instan Halal</td>\n",
       "      <td>23750</td>\n",
       "      <td>Brother Meat Shop</td>\n",
       "      <td>Depok</td>\n",
       "      <td>500</td>\n",
       "      <td>4.9</td>\n",
       "    </tr>\n",
       "    <tr>\n",
       "      <th>125</th>\n",
       "      <td>Seblak Instan Pedas Home Made</td>\n",
       "      <td>3500</td>\n",
       "      <td>the Dhecip</td>\n",
       "      <td>Tangerang Selatan</td>\n",
       "      <td>3000</td>\n",
       "      <td>4.9</td>\n",
       "    </tr>\n",
       "    <tr>\n",
       "      <th>126</th>\n",
       "      <td>Seblak Rafael/Seblak Coet Instan Halal</td>\n",
       "      <td>26600</td>\n",
       "      <td>Foodstocks</td>\n",
       "      <td>Jakarta Selatan</td>\n",
       "      <td>60</td>\n",
       "      <td>5.0</td>\n",
       "    </tr>\n",
       "    <tr>\n",
       "      <th>127</th>\n",
       "      <td>Kylafood Seblak Rempah Autentik 115gr, Seblak ...</td>\n",
       "      <td>9900</td>\n",
       "      <td>Brother Meat Shop</td>\n",
       "      <td>Depok</td>\n",
       "      <td>100</td>\n",
       "      <td>5.0</td>\n",
       "    </tr>\n",
       "    <tr>\n",
       "      <th>128</th>\n",
       "      <td>KERUPUK SEBLAK PEDAS / KRUPUK SEBLAK KERING DA...</td>\n",
       "      <td>25000</td>\n",
       "      <td>LEGIT SNACK</td>\n",
       "      <td>Jakarta Barat</td>\n",
       "      <td>70</td>\n",
       "      <td>4.9</td>\n",
       "    </tr>\n",
       "    <tr>\n",
       "      <th>129</th>\n",
       "      <td>Kerupuk Seblak / Seblak / Kering Pedas /</td>\n",
       "      <td>10000</td>\n",
       "      <td>Anggris store</td>\n",
       "      <td>Kab. Bogor</td>\n",
       "      <td>50</td>\n",
       "      <td>4.8</td>\n",
       "    </tr>\n",
       "  </tbody>\n",
       "</table>\n",
       "</div>"
      ],
      "text/plain": [
       "                                           Nama Produk  Harga Produk  \\\n",
       "108  Geli Food Seblak Ceker Tanpa Tulang Super Peda...         24000   \n",
       "109           Seblak Instan Komplit Pedas Gurih Nikmat          5999   \n",
       "110                      Seblak Instan Pedas Home Made          3500   \n",
       "113  Kylafood Mix Fav Selebgram Seblak Original & B...         39000   \n",
       "114  cuanki tahu panjang atau stik isi 50 pcs topin...         12999   \n",
       "115                            Kylafood Seblak Kwetiaw         20680   \n",
       "116  Paket Isi 4 Batagor Instan | Makaroni Basah | ...         64906   \n",
       "117                        BUMBU BASO ACI SEBLAK 100gr         12000   \n",
       "118                        Seblak Bandung Jawara Pedas         28000   \n",
       "119           KERUPUK SEBLAK Aneka Warna PEDAS ... HOT         14000   \n",
       "120  Muria Snack Seblak Stick Cabe Merah x 10pcs (B...         55000   \n",
       "121  Seblak Putih Pedas / Kerupuk Bawang Pedas Odjo...          9000   \n",
       "122  COMBO HALU! 3PC SEBLAK MIE HALU - EMAK INDAH FOOD         59400   \n",
       "123                            SEBLAK INSTANT TERMURAH          4450   \n",
       "124            Seblak Rafael, Seblak Coet Instan Halal         23750   \n",
       "125                      Seblak Instan Pedas Home Made          3500   \n",
       "126             Seblak Rafael/Seblak Coet Instan Halal         26600   \n",
       "127  Kylafood Seblak Rempah Autentik 115gr, Seblak ...          9900   \n",
       "128  KERUPUK SEBLAK PEDAS / KRUPUK SEBLAK KERING DA...         25000   \n",
       "129           Kerupuk Seblak / Seblak / Kering Pedas /         10000   \n",
       "\n",
       "                            Penjual          Kota Toko  Banyaknya Terjual  \\\n",
       "108                        Lidigeli         Kab. Garut                100   \n",
       "109                  Baso Aci Ayang         Kab. Garut               3000   \n",
       "110                      the Dhecip  Tangerang Selatan               3000   \n",
       "113                        kylafood            Bandung                100   \n",
       "114                CUANKI CULAMETAN         Kab. Garut                100   \n",
       "115                        kylafood            Bandung               4000   \n",
       "116            Lakoca Official Shop             Cimahi                 30   \n",
       "117                  jajanangarut19    Jakarta Selatan                250   \n",
       "118                 AkagamiShanks40      Jakarta Pusat                  6   \n",
       "119                      KRIUK JAYA      Jakarta Barat                100   \n",
       "120                    Merbabu Food  Tangerang Selatan                 10   \n",
       "121               The Little Snacks  Tangerang Selatan               1000   \n",
       "122               Pempek Emak Indah      Jakarta Barat                 25   \n",
       "123  Pusat Cuankie & Cemilan Frozen      Jakarta Timur              10000   \n",
       "124               Brother Meat Shop              Depok                500   \n",
       "125                      the Dhecip  Tangerang Selatan               3000   \n",
       "126                      Foodstocks    Jakarta Selatan                 60   \n",
       "127               Brother Meat Shop              Depok                100   \n",
       "128                     LEGIT SNACK      Jakarta Barat                 70   \n",
       "129                   Anggris store         Kab. Bogor                 50   \n",
       "\n",
       "     Rating Produk  \n",
       "108            4.8  \n",
       "109            4.9  \n",
       "110            4.9  \n",
       "113            4.8  \n",
       "114            4.8  \n",
       "115            4.9  \n",
       "116            4.9  \n",
       "117            4.9  \n",
       "118            5.0  \n",
       "119            4.8  \n",
       "120            5.0  \n",
       "121            4.9  \n",
       "122            5.0  \n",
       "123            4.8  \n",
       "124            4.9  \n",
       "125            4.9  \n",
       "126            5.0  \n",
       "127            5.0  \n",
       "128            4.9  \n",
       "129            4.8  "
      ]
     },
     "execution_count": 27,
     "metadata": {},
     "output_type": "execute_result"
    }
   ],
   "source": [
    "# Melihat Data Tertentu Sebelum Menghilangkan Bentuk String\n",
    "df.iloc[100:120]"
   ]
  },
  {
   "cell_type": "code",
   "execution_count": 28,
   "metadata": {},
   "outputs": [
    {
     "name": "stdout",
     "output_type": "stream",
     "text": [
      "<class 'pandas.core.frame.DataFrame'>\n",
      "Index: 348 entries, 3 to 374\n",
      "Data columns (total 6 columns):\n",
      " #   Column             Non-Null Count  Dtype  \n",
      "---  ------             --------------  -----  \n",
      " 0   Nama Produk        348 non-null    object \n",
      " 1   Harga Produk       348 non-null    int32  \n",
      " 2   Penjual            348 non-null    object \n",
      " 3   Kota Toko          348 non-null    object \n",
      " 4   Banyaknya Terjual  348 non-null    int32  \n",
      " 5   Rating Produk      343 non-null    float64\n",
      "dtypes: float64(1), int32(2), object(3)\n",
      "memory usage: 16.3+ KB\n"
     ]
    }
   ],
   "source": [
    "# Melihat Informasi Data\n",
    "df.info()"
   ]
  },
  {
   "cell_type": "markdown",
   "metadata": {},
   "source": [
    "**Interpretasi #7:**\n",
    "\n",
    "Untuk mengatasi nilai string pada kolom `harga produk` dan `banyaknya terjual` dilakukan penghapusan pada data yang memiliki nilai `Rp`, `rb+ terjual` dan `+ terjual`. Selain itu dilakukan pengubahan pada tipe data menjadi data numerik. Untuk data yang mengalami *missing value* akan diberikan asumsi nilai 0 agar keseluruhan kolom bisa dilakukan pengubahan menjadi data numerik\n",
    "\n",
    "---"
   ]
  },
  {
   "cell_type": "markdown",
   "metadata": {},
   "source": [
    "#### ***Business Understanding / Problem Statement***"
   ]
  },
  {
   "cell_type": "markdown",
   "metadata": {},
   "source": [
    "---\n",
    "\n",
    "Sebelum dilakukan analisis dengan pendekatan statistika, pada tahap ini akan dilakukan pendekatan secara bisnis dengan metode SMART. Analisis ini yang akan menjadi acuan sebagai permasalahan untuk dijawab dengan pendekatan statistika\n",
    "\n",
    "---"
   ]
  },
  {
   "cell_type": "markdown",
   "metadata": {},
   "source": [
    "***SMART Analysis***\n",
    "\n",
    "*Study case* yang ingin dianalisa adalah permasalahan jika seseorang berusaha untuk berjualan namun ada kendala pada biaya produksi barang yang terbatas namun masih cukup untuk biaya promosi. Oleh karena itu diambil keputusan untuk menjalankan bisnis *dropship* . Bisnis *dropship* adalah sistem penjualan yang hanya menjadi perantara antara penjual dan pembeli. Ide yang telintas adalah untuk jualan seblak. Namun, perlu dipastikan apakah jualan seblak adalah pilihan terbaik. Analisis dari permasalahan tersebut akan dijabarkan melalui metode SMART sebagai berikut:\n",
    "\n",
    "SMART Kriteria | Analisis\n",
    "---|---\n",
    "`Spesific` | Menjalankan bisnis *dropship* untuk menghasilkan keuntungan dan memastikan ketersediaan produk dari *supplier*\n",
    "`Measurable` | Mencapai keuntungan penjualan seblak dengan mekanisme *dropship* dan adanya kepastian permintaan pasar yang cukup\n",
    "`Achievable` | Mencapai target penjualan bulanan yang layak \n",
    "`Relevant` | Dengan modal terbatas bisa mendapat keuntungan\n",
    "`Time-bound` | Mendapat keuntungan penjualan dan permintaan pelanggan yang cukup dalam waktu 3 bulan\n",
    "\n",
    "\n",
    "`Problem Statement`: \n",
    "\n",
    "Membuat bisnis *dropship* dengan mendapatkan keuntungan penjualan dalam waktu 3 bulan dengan modal yang terbatas serta memastikan permintaan dan ketersediaan produk dari *supplier*\n",
    "\n",
    "---"
   ]
  },
  {
   "cell_type": "markdown",
   "metadata": {},
   "source": [
    "#### ***Analysis***"
   ]
  },
  {
   "cell_type": "markdown",
   "metadata": {},
   "source": [
    "---\n",
    "\n",
    "Tahap dimana menjawab pertanyaan untuk analisa bisnis dengan pendekatan statistika yang dimana nantinya akan dijawab dengan metode *measurement of central tendency*, *measurement of dispersion* dan analisa distribusi data. Selain itu akan dilakukan uji coba pertanyaan yang nantinya akan dijawab dengan pendekatan statistika seperti analisa korelasi dan hipotesis\n",
    "\n",
    "---"
   ]
  },
  {
   "cell_type": "markdown",
   "metadata": {},
   "source": [
    "1. Lakukan perhitungan dan analisis data terkait data seperti distribusi data dan ada/tidaknya outlier. Analisis akan menggunakan perhitungan rata-rata, median, standar deviasi, skewness, dan kurtosis dari kolom harga, banyak produk terjual, dan rating"
   ]
  },
  {
   "cell_type": "markdown",
   "metadata": {},
   "source": [
    "***Measurement of Central Tendency***"
   ]
  },
  {
   "cell_type": "code",
   "execution_count": 29,
   "metadata": {},
   "outputs": [
    {
     "data": {
      "text/html": [
       "<div>\n",
       "<style scoped>\n",
       "    .dataframe tbody tr th:only-of-type {\n",
       "        vertical-align: middle;\n",
       "    }\n",
       "\n",
       "    .dataframe tbody tr th {\n",
       "        vertical-align: top;\n",
       "    }\n",
       "\n",
       "    .dataframe thead th {\n",
       "        text-align: right;\n",
       "    }\n",
       "</style>\n",
       "<table border=\"1\" class=\"dataframe\">\n",
       "  <thead>\n",
       "    <tr style=\"text-align: right;\">\n",
       "      <th></th>\n",
       "      <th>Harga Produk</th>\n",
       "      <th>Banyaknya Terjual</th>\n",
       "      <th>Rating Produk</th>\n",
       "    </tr>\n",
       "  </thead>\n",
       "  <tbody>\n",
       "    <tr>\n",
       "      <th>count</th>\n",
       "      <td>348.000</td>\n",
       "      <td>348.000</td>\n",
       "      <td>343.000</td>\n",
       "    </tr>\n",
       "    <tr>\n",
       "      <th>mean</th>\n",
       "      <td>18348.121</td>\n",
       "      <td>1223.270</td>\n",
       "      <td>4.897</td>\n",
       "    </tr>\n",
       "    <tr>\n",
       "      <th>std</th>\n",
       "      <td>15784.644</td>\n",
       "      <td>2594.461</td>\n",
       "      <td>0.095</td>\n",
       "    </tr>\n",
       "    <tr>\n",
       "      <th>min</th>\n",
       "      <td>3500.000</td>\n",
       "      <td>0.000</td>\n",
       "      <td>4.400</td>\n",
       "    </tr>\n",
       "    <tr>\n",
       "      <th>25%</th>\n",
       "      <td>9900.000</td>\n",
       "      <td>57.500</td>\n",
       "      <td>4.800</td>\n",
       "    </tr>\n",
       "    <tr>\n",
       "      <th>50%</th>\n",
       "      <td>15000.000</td>\n",
       "      <td>100.000</td>\n",
       "      <td>4.900</td>\n",
       "    </tr>\n",
       "    <tr>\n",
       "      <th>75%</th>\n",
       "      <td>24000.000</td>\n",
       "      <td>500.000</td>\n",
       "      <td>5.000</td>\n",
       "    </tr>\n",
       "    <tr>\n",
       "      <th>max</th>\n",
       "      <td>180000.000</td>\n",
       "      <td>10000.000</td>\n",
       "      <td>5.000</td>\n",
       "    </tr>\n",
       "  </tbody>\n",
       "</table>\n",
       "</div>"
      ],
      "text/plain": [
       "       Harga Produk  Banyaknya Terjual  Rating Produk\n",
       "count       348.000            348.000        343.000\n",
       "mean      18348.121           1223.270          4.897\n",
       "std       15784.644           2594.461          0.095\n",
       "min        3500.000              0.000          4.400\n",
       "25%        9900.000             57.500          4.800\n",
       "50%       15000.000            100.000          4.900\n",
       "75%       24000.000            500.000          5.000\n",
       "max      180000.000          10000.000          5.000"
      ]
     },
     "execution_count": 29,
     "metadata": {},
     "output_type": "execute_result"
    }
   ],
   "source": [
    "# Menampilkan Informasi Statistika Data\n",
    "df.describe().round(3)"
   ]
  },
  {
   "cell_type": "markdown",
   "metadata": {},
   "source": [
    "*Measurement of Central Tendency* - Harga Produk"
   ]
  },
  {
   "cell_type": "code",
   "execution_count": 30,
   "metadata": {},
   "outputs": [
    {
     "name": "stdout",
     "output_type": "stream",
     "text": [
      "Rata-rata Harga Produk: Rp 18348.121\n",
      "Median Harga Produk: Rp 15000.0\n",
      "Modus Harga Produk: Rp 23750\n"
     ]
    }
   ],
   "source": [
    "# Menampilkan Nilai Rata-Rata, Median dan Modus Harga Produk\n",
    "print('Rata-rata Harga Produk: Rp', df['Harga Produk'].mean().round(3))\n",
    "print('Median Harga Produk: Rp', df['Harga Produk'].median())\n",
    "print('Modus Harga Produk: Rp', df['Harga Produk'].mode().values[0])"
   ]
  },
  {
   "cell_type": "markdown",
   "metadata": {},
   "source": [
    "*Measurement of Central Tendency* - Banyaknya Terjual"
   ]
  },
  {
   "cell_type": "code",
   "execution_count": 31,
   "metadata": {},
   "outputs": [
    {
     "name": "stdout",
     "output_type": "stream",
     "text": [
      "Rata-rata Banyaknya Produk Terjual:  1223.0\n",
      "Median Banyaknya Produk Terjual:  100.0\n"
     ]
    }
   ],
   "source": [
    "# Menampilkan Nilai Rata-Rata, Median dan Modus Produk Terjual\n",
    "print('Rata-rata Banyaknya Produk Terjual: ', df['Banyaknya Terjual'].mean().round(0))\n",
    "print('Median Banyaknya Produk Terjual: ', df['Banyaknya Terjual'].median())\n"
   ]
  },
  {
   "cell_type": "markdown",
   "metadata": {},
   "source": [
    "*Measurement of Central Tendency* - Rating Produk"
   ]
  },
  {
   "cell_type": "code",
   "execution_count": 32,
   "metadata": {},
   "outputs": [
    {
     "name": "stdout",
     "output_type": "stream",
     "text": [
      "Rata-rata Rating Produk:  4.9\n",
      "Median Rating Produk:  4.9\n"
     ]
    }
   ],
   "source": [
    "# Menampilkan Nilai Rata-Rata, Median dan Modus Rating Produk\n",
    "print('Rata-rata Rating Produk: ', df['Rating Produk'].mean().round(1))\n",
    "print('Median Rating Produk: ', df['Rating Produk'].median())"
   ]
  },
  {
   "cell_type": "markdown",
   "metadata": {},
   "source": [
    "***Measurement of Dispersion***"
   ]
  },
  {
   "cell_type": "markdown",
   "metadata": {},
   "source": [
    "*Measurement of Dispersion* - Harga Produk"
   ]
  },
  {
   "cell_type": "code",
   "execution_count": 33,
   "metadata": {},
   "outputs": [
    {
     "name": "stdout",
     "output_type": "stream",
     "text": [
      "Q1: Rp 9900.0\n",
      "Q2: Rp 15000.0\n",
      "Q3: Rp 24000.0\n",
      "Interquartile Range (IQR): 14100.0\n"
     ]
    }
   ],
   "source": [
    "# Menampilkan IQR untuk Harga produk\n",
    "q1 = df['Harga Produk'].quantile(0.25)\n",
    "q2 = df['Harga Produk'].quantile(0.5)\n",
    "q3 = df['Harga Produk'].quantile(0.75)\n",
    "\n",
    "iqr = q3 - q1\n",
    "print('Q1: Rp',q1)\n",
    "print('Q2: Rp',q2)\n",
    "print('Q3: Rp',q3)\n",
    "print('Interquartile Range (IQR):',iqr)"
   ]
  },
  {
   "cell_type": "code",
   "execution_count": 34,
   "metadata": {},
   "outputs": [
    {
     "name": "stdout",
     "output_type": "stream",
     "text": [
      "Stadar Deviasi Harga Produk: Rp 15784.644\n"
     ]
    }
   ],
   "source": [
    "# Standar Deviasi untuk Harga Produk\n",
    "std = df['Harga Produk'].std().round(3)\n",
    "print('Stadar Deviasi Harga Produk: Rp', std)"
   ]
  },
  {
   "cell_type": "markdown",
   "metadata": {},
   "source": [
    "*Measurement of Dispersion* - Banyaknya Terjual"
   ]
  },
  {
   "cell_type": "code",
   "execution_count": 35,
   "metadata": {},
   "outputs": [
    {
     "name": "stdout",
     "output_type": "stream",
     "text": [
      "Q1: 58.0\n",
      "Q2: 100.0\n",
      "Q3: 500.0\n",
      "Interquartile Range (IQR): 442.0\n"
     ]
    }
   ],
   "source": [
    "# Menampilkan IQR untuk Banyaknya Terjual\n",
    "q1 = df['Banyaknya Terjual'].quantile(0.25).round(0)\n",
    "q2 = df['Banyaknya Terjual'].quantile(0.5).round(0)\n",
    "q3 = df['Banyaknya Terjual'].quantile(0.75).round(0)\n",
    "\n",
    "iqr = q3 - q1\n",
    "print('Q1:',q1)\n",
    "print('Q2:',q2)\n",
    "print('Q3:',q3)\n",
    "print('Interquartile Range (IQR):',iqr)"
   ]
  },
  {
   "cell_type": "code",
   "execution_count": 36,
   "metadata": {},
   "outputs": [
    {
     "name": "stdout",
     "output_type": "stream",
     "text": [
      "Stadar Deviasi Banyaknya Terjual: 2594.0\n"
     ]
    }
   ],
   "source": [
    "# Standar Deviasi untuk Banyaknya Terjual\n",
    "std = df['Banyaknya Terjual'].std().round(0)\n",
    "print('Stadar Deviasi Banyaknya Terjual:', std)"
   ]
  },
  {
   "cell_type": "markdown",
   "metadata": {},
   "source": [
    "*Measurement of Dispersion* - Rating Produk"
   ]
  },
  {
   "cell_type": "code",
   "execution_count": 37,
   "metadata": {},
   "outputs": [
    {
     "name": "stdout",
     "output_type": "stream",
     "text": [
      "Q1: 4.8\n",
      "Q2: 4.9\n",
      "Q3: 5.0\n",
      "Interquartile Range (IQR): 0.2\n"
     ]
    }
   ],
   "source": [
    "# Menampilkan IQR untuk Rating Produk\n",
    "q1 = df['Rating Produk'].quantile(0.25)\n",
    "q2 = df['Rating Produk'].quantile(0.5)\n",
    "q3 = df['Rating Produk'].quantile(0.75)\n",
    "\n",
    "iqr = q3 - q1\n",
    "print('Q1:',q1)\n",
    "print('Q2:',q2)\n",
    "print('Q3:',q3)\n",
    "print('Interquartile Range (IQR):', iqr.round(3))"
   ]
  },
  {
   "cell_type": "code",
   "execution_count": 38,
   "metadata": {},
   "outputs": [
    {
     "name": "stdout",
     "output_type": "stream",
     "text": [
      "Stadar Deviasi Rating Produk 0.095\n"
     ]
    }
   ],
   "source": [
    "# Standar Deviasi untuk Rating Produk\n",
    "std = df['Rating Produk'].std().round(3)\n",
    "print('Stadar Deviasi Rating Produk', std)"
   ]
  },
  {
   "cell_type": "markdown",
   "metadata": {},
   "source": [
    "**Analisa Distribusi Data**"
   ]
  },
  {
   "cell_type": "markdown",
   "metadata": {},
   "source": [
    "Distribusi Data - Harga Produk"
   ]
  },
  {
   "cell_type": "code",
   "execution_count": 39,
   "metadata": {},
   "outputs": [
    {
     "data": {
      "image/png": "[encoded data removed]",
      "text/plain": [
       "<Figure size 800x600 with 1 Axes>"
      ]
     },
     "metadata": {},
     "output_type": "display_data"
    },
    {
     "data": {
      "image/png": "[encoded data removed]",
      "text/plain": [
       "<Figure size 800x600 with 1 Axes>"
      ]
     },
     "metadata": {},
     "output_type": "display_data"
    },
    {
     "name": "stdout",
     "output_type": "stream",
     "text": [
      "Skewness: 4.371\n",
      "Kurtosis: 35.5\n"
     ]
    }
   ],
   "source": [
    "# Histogram Untuk Melihat Sebaran Data\n",
    "plt.figure(figsize=(8, 6))\n",
    "sns.histplot(df['Harga Produk'], kde=True, color='#560BAD', edgecolor='black')\n",
    "plt.title('Histogram Distribusi Data Harga Produk')\n",
    "plt.xlabel('Harga Produk')\n",
    "plt.ylabel('Frekuensi')\n",
    "plt.show()\n",
    "\n",
    "# Boxplot untuk Melihat Distribusi Data dan Identifikasi Outlier\n",
    "plt.figure(figsize=(8, 6))\n",
    "sns.boxplot(x=df['Harga Produk'], color='#560BAD')\n",
    "plt.title('Boxplot Distribusi Data Harga produk')\n",
    "plt.xlabel('Harga Produk')\n",
    "plt.show()\n",
    "\n",
    "# Periksa Skewness dan Kurtosis\n",
    "skewness = df['Harga Produk'].skew().round(3)\n",
    "kurtosis = df['Harga Produk'].kurtosis().round(3)\n",
    "\n",
    "print(\"Skewness:\", skewness)\n",
    "print(\"Kurtosis:\", kurtosis)"
   ]
  },
  {
   "cell_type": "markdown",
   "metadata": {},
   "source": [
    "**Interpretasi #8:**\n",
    "\n",
    "Dari data diketahui nilai `Rata-rata Harga Produk` adalah Rp 18348.121, `Median Harga Produk` adalah Rp 15000.0 sehingga distribusi data yang menggambarkan data ini adalah *Positive Skew*. Hal ini dibuktikan dari gambar grafik pada harga produk ekor distribusi lebih panjang ke sisi kanan. Penyebab dari kasus ini dikarenakan adanya outlier yang memiliki pengaruh besar dalam rata-rata. Dalam kondisi aktualnya banyak produk yang memiliki harga tinggi dibandingkan rata-rata keseluruhan. Untuk menggambarkan data yang lebih akurat digunakan median yang memberikan kondisi akurat tentang harga tengah dari produk yaitu sebesar Rp 15000.0. Pada data juga diketahui `Modus Harga Produk` adalah Rp 23750 yang dimana pada kondisi aktualnya harga produk yang umumnya dijual. Untuk `nilai IQR` diketahui memiliki nilai 14100.0 dimana harga ` nilai terendah (Q1)` adalah Rp 9900.0 dan `nilai tertinggi (Q3)` adalah Rp 24000.0. Pada kondisi aktual sebaran harga produk cukup variatif karena umumnya orang orang akan menjual dengan harga sekitar nilai titik terendah hingga nilai tertinggi. `Standar Deviasi` juga memiliki peran penting dalam pengambilan harga yang dimana memberikan informasi tentang seberapa bervariasinya harga produk dari harga rata-rata dalam data ini diketahui memiliki nilai Rp 15784.644. Untuk `Skewness` yang memiliki nilai positif yaitu 4.371 membuktikan bahwa harga produk lebih tinggi dari rata-rata pasaran sedangkan untuk nilai `Kurtosis` sebesar 35.5 menunjukkan bentuk *Leptokurtic* yang dimana memiliki puncak yang lebih tinggi. Hal ini menunjukkan data cenderung berkumpul secara sangat kuat di sekitar nilai rata-rata. Sehingga menunjukkan sebagian besar produk memiliki harga yang serupa."
   ]
  },
  {
   "cell_type": "markdown",
   "metadata": {},
   "source": [
    "Distribusi Data - Banyaknya Terjual"
   ]
  },
  {
   "cell_type": "code",
   "execution_count": 40,
   "metadata": {},
   "outputs": [
    {
     "data": {
      "image/png": "[encoded data removed]",
      "text/plain": [
       "<Figure size 800x600 with 1 Axes>"
      ]
     },
     "metadata": {},
     "output_type": "display_data"
    },
    {
     "data": {
      "image/png": "[encoded data removed]",
      "text/plain": [
       "<Figure size 800x600 with 1 Axes>"
      ]
     },
     "metadata": {},
     "output_type": "display_data"
    },
    {
     "name": "stdout",
     "output_type": "stream",
     "text": [
      "Skewness: 2.708\n",
      "Kurtosis: 6.318\n"
     ]
    }
   ],
   "source": [
    "# Histogram Untuk Melihat Sebaran Data\n",
    "plt.figure(figsize=(8, 6))\n",
    "sns.histplot(x=df['Banyaknya Terjual'], bins=100, color='#4361EE')\n",
    "plt.title('Historam Distribusi Banyaknya Terjual')\n",
    "plt.xlabel('Banyaknya Terjual')\n",
    "plt.ylabel('Frekuensi')\n",
    "plt.show()\n",
    "\n",
    "\n",
    "# Boxplot untuk Melihat Distribusi Data dan Identifikasi Outlier\n",
    "plt.figure(figsize=(8, 6))\n",
    "sns.boxplot(x=df['Banyaknya Terjual'], color='#4361EE')\n",
    "plt.title('Boxplot Distribusi Data Banyaknya Terjual')\n",
    "plt.xlabel('Banyaknya Terjual')\n",
    "plt.show()\n",
    "\n",
    "# Periksa Skewness dan Kurtosis\n",
    "skewness = df['Banyaknya Terjual'].skew().round(3)\n",
    "kurtosis = df['Banyaknya Terjual'].kurtosis().round(3)\n",
    "\n",
    "print(\"Skewness:\", skewness)\n",
    "print(\"Kurtosis:\", kurtosis)"
   ]
  },
  {
   "cell_type": "markdown",
   "metadata": {},
   "source": [
    "**Interpretasi #9:**\n",
    "\n",
    "Dari data diketahui nilai `Rata-rata Banyaknya Produk Terjual` adalah 1223 unit, `Median Banyaknya Produk Terjual` adalah 100 unit sehingga distribusi data yang menggambarkan data ini adalah *Positive Skew*. Hal ini dibuktikan dari gambar grafik pada banyaknya produk terjual distribusi lebih panjang ke sisi kanan. Penyebab dari kasus ini dikarenakan adanya outlier yang memiliki pengaruh besar dalam rata-rata. Dalam kondisi aktualnya banyak produk yang memiliki minat tinggi dibandingkan rata-rata keseluruhan. Untuk menggambarkan data yang lebih akurat digunakan median yang memberikan kondisi akurat tentang banyak produk yang terjual yaitu sebesar 100 unit yang dalam hal ini adalah penjualan yang wajar. Untuk `nilai IQR` diketahui memiliki nilai 442 dimana banyaknya produk terjual ` nilai terendah (Q1)` adalah 58 dan `nilai tertinggi (Q3)` adalah 500. Pada kondisi aktual banyaknya produk terjual cukup variatif karena umumnya produk yang laku berkisar nilai titik terendah hingga nilai tertinggi. `Standar Deviasi` juga memiliki peran penting dalam meberikan keragaman produk yang terjual yang dimana diketahui memiliki nilai 2594. Nilai ini cukup tinggi sehingga memiliki resiko yang lebih besar terkait dengan fluktuasi penjualan. Untuk `Skewness` yang memiliki nilai positif yaitu 2.708 membuktikan banyak produk yang terjual lebih tinggi dari rata-rata pasaran sedangkan untuk nilai `Kurtosis` sebesar 6.318 menunjukkan bentuk *Leptokurtic* yang dimana memiliki puncak yang lebih tinggi. Hal ini menunjukkan menunjukkan penjualan produk yang sangat tinggi yang memengaruhi rata-rata dan membuat distribusi menjadi lebih tajam"
   ]
  },
  {
   "cell_type": "markdown",
   "metadata": {},
   "source": [
    "Distribusi Data - Rating Produk"
   ]
  },
  {
   "cell_type": "code",
   "execution_count": 41,
   "metadata": {},
   "outputs": [
    {
     "data": {
      "image/png": "[encoded data removed]",
      "text/plain": [
       "<Figure size 800x600 with 1 Axes>"
      ]
     },
     "metadata": {},
     "output_type": "display_data"
    },
    {
     "data": {
      "image/png": "[encoded data removed]",
      "text/plain": [
       "<Figure size 800x600 with 1 Axes>"
      ]
     },
     "metadata": {},
     "output_type": "display_data"
    },
    {
     "name": "stdout",
     "output_type": "stream",
     "text": [
      "Skewness: -1.585\n",
      "Kurtosis: 5.985\n"
     ]
    }
   ],
   "source": [
    "# Barchart Untuk Melihat Sebaran Data\n",
    "plt.figure(figsize=(8, 6))\n",
    "sns.countplot(x=df['Rating Produk'], color='#CFA3EA')\n",
    "plt.title('Barchart Distribusi Rating Produk')\n",
    "plt.xlabel('Rating Produk')\n",
    "plt.ylabel('Frekuensi')\n",
    "plt.show()\n",
    "\n",
    "# Boxplot untuk Melihat Distribusi Data dan Identifikasi Outlier\n",
    "plt.figure(figsize=(8, 6))\n",
    "sns.boxplot(x=df['Rating Produk'], color='#CFA3EA')\n",
    "plt.title('Boxplot Distribusi Data Rating Produk')\n",
    "plt.xlabel('Rating Produk')\n",
    "plt.show()\n",
    "\n",
    "# Periksa Skewness dan Kurtosis\n",
    "skewness = df['Rating Produk'].skew().round(3)\n",
    "kurtosis = df['Rating Produk'].kurtosis().round(3)\n",
    "\n",
    "print(\"Skewness:\", skewness)\n",
    "print(\"Kurtosis:\", kurtosis)"
   ]
  },
  {
   "cell_type": "markdown",
   "metadata": {},
   "source": [
    "**Interpretasi #10:**\n",
    "\n",
    "Dari data diketahui nilai `Rata-rata Banyaknya Rating` dan `Median Banyaknya Produk Terjual` adalah 4.9 unit sehingga distribusi data yang menggambarkan data ini bedasarkan rata-rata dan median adalah *Symmetrical Distribution*. Namun, pada gambar grafik rating produk memiliki outlier. Penyebab dari kasus ini dikarenakan diberikan data yang bernilai 0 untuk mengatasi *missing value* selain itu pelanggan juga memberikan rating yang lebih variasi. Sehingga distribusi data yang menggambarkan data ini adalah *Negative Skew*. Dalam kondisi aktualnya banyak pelanggan yang memiliki minat tinggi terhadap produk. Untuk `nilai IQR` diketahui memiliki nilai 0.2 dimana banyaknya produk terjual ` nilai terendah (Q1)` adalah 4.8 dan `nilai tertinggi (Q3)` adalah 5.0. Pada kondisi aktual banyak pelanggan yang cukup konsistem memberikan rating tinggi pada produk. `Standar Deviasi` juga memiliki peran penting dalam meberikan keragaman rating produk yang dimana diketahui memiliki nilai 0.0095. Nilai ini cukup rendah yang menunjukkan rating produk cenderung stabil dan konsisten. Untuk `Skewness` yang memiliki nilai negatif yaitu -1.585 membuktikan pelanggan cenderung memberikan banyak rating produk yang lebih tinggi sedangkan untuk nilai `Kurtosis` sebesar 5.985 menunjukkan bentuk *Leptokurtic* yang dimana memiliki puncak yang lebih tinggi. Hal ini menunjukkan adanya peningkatan rating produk yang sangat tinggi yang memengaruhi rata-rata dan membuat distribusi menjadi lebih tajam\n",
    "\n",
    "---"
   ]
  },
  {
   "cell_type": "markdown",
   "metadata": {},
   "source": [
    "2. Hitung pendapatan minimum dan maksimum dari data menggunakan metode *confidence interval* sehingga didapat lower value dan upper value dari distribusi populasi pendapatan. Pada kasus ini akan dianggap data terdistribusi normal dengan *confidence level* mencapai 95% dan informasi produk terjual merupakan penjualan produk per bulan"
   ]
  },
  {
   "cell_type": "code",
   "execution_count": 42,
   "metadata": {},
   "outputs": [
    {
     "name": "stdout",
     "output_type": "stream",
     "text": [
      "Lower Limit: 951.0\n",
      "Upper Limit: 1496.0\n"
     ]
    }
   ],
   "source": [
    "# Mernghitung nilai Lower dan Upper Limit Untuk Banyaknya Terjual\n",
    "std = df[\"Banyaknya Terjual\"].std()\n",
    "N = len(df[\"Banyaknya Terjual\"])\n",
    "low_banyak_terjual, up_banyak_terjual = stats.norm.interval(0.95,loc=df[\"Banyaknya Terjual\"].mean(), scale = std / np.sqrt(N))\n",
    "print('Lower Limit:', low_banyak_terjual.round(0))\n",
    "print('Upper Limit:', up_banyak_terjual.round(0))"
   ]
  },
  {
   "cell_type": "code",
   "execution_count": 43,
   "metadata": {},
   "outputs": [
    {
     "name": "stdout",
     "output_type": "stream",
     "text": [
      "Lower Limit: Rp 16689.706\n",
      "Upper Limit: Rp 20006.536\n"
     ]
    }
   ],
   "source": [
    "# Mernghitung nilai Lower dan Upper Limit Untuk Harga Produk\n",
    "std = df[\"Harga Produk\"].std()\n",
    "N = len(df[\"Harga Produk\"])\n",
    "low_harga_produk, up_harga_produk = stats.norm.interval(0.95,loc=df[\"Harga Produk\"].mean(), scale = std / np.sqrt(N))\n",
    "print('Lower Limit: Rp', low_harga_produk.round(3))\n",
    "print('Upper Limit: Rp', up_harga_produk.round(3))"
   ]
  },
  {
   "cell_type": "code",
   "execution_count": 44,
   "metadata": {},
   "outputs": [
    {
     "name": "stdout",
     "output_type": "stream",
     "text": [
      "Pendapatan Minimum: Rp 15866615.468\n",
      "Pendapatan Maksimum: Rp 29926925.908\n"
     ]
    }
   ],
   "source": [
    "# Menghitung Pendapatan Minimun dan Pendaptan Maksimum\n",
    "pendapatan_minimum = low_banyak_terjual * low_harga_produk\n",
    "pendapatan_maksimum = up_banyak_terjual * up_harga_produk\n",
    "print('Pendapatan Minimum: Rp', pendapatan_minimum.round(3))\n",
    "print('Pendapatan Maksimum: Rp', pendapatan_maksimum.round(3))"
   ]
  },
  {
   "cell_type": "markdown",
   "metadata": {},
   "source": [
    "**Interpretasi #11:**\n",
    "\n",
    "Setelah dilakukan pengujian dengan metode *confidence interval* dengan *confidence level* mencapai 95% persen, akan didapat nilai terendah yang direkomendasikan untuk jumlah produk terjual yakni 951 unit dan tertinggi 1496 unit dengan harga jual terendah Rp 16689.706 dan tertinggi Rp 20006.536 Sehingga didapat pendapatan minimal Rp 15866615.468 untuk total seluruh unit pada rekomendasi jumlah produk terendah yang harus distock dan pendapatan maksimal yakni Rp 29926925.908 untuk total seluruh unit pada rekomendasi jumlah produk tertinggi yang harus distock\n",
    "\n",
    "---"
   ]
  },
  {
   "cell_type": "markdown",
   "metadata": {},
   "source": [
    "3. Lakukan uji coba secara hipotesis apakah harga barang di Jabodetabek dan di luar Jabodetabek berbeda\n"
   ]
  },
  {
   "cell_type": "markdown",
   "metadata": {},
   "source": [
    "Untuk menjawab pertanyaan akan dilakukan pengujian hipotesis:\n",
    "\n",
    "H0 = Tidak ada perbedaan harga barang antara Jabodetabek dan luar Jabodetabek\n",
    "\n",
    "H1 = Ada perbedaan harga barang antara Jabodetabek dan luar Jabodetabek"
   ]
  },
  {
   "cell_type": "code",
   "execution_count": 45,
   "metadata": {},
   "outputs": [
    {
     "data": {
      "text/plain": [
       "Kota Toko\n",
       "Depok                 57\n",
       "Tangerang Selatan     52\n",
       "Kab. Garut            47\n",
       "Jakarta Barat         41\n",
       "Jakarta Selatan       39\n",
       "Jakarta Timur         26\n",
       "Bandung               13\n",
       "Kab. Bandung          12\n",
       "Kab. Bogor            10\n",
       "Surakarta             10\n",
       "Kab. Sidoarjo         10\n",
       "Kab. Tangerang         9\n",
       "Surabaya               5\n",
       "Jakarta Pusat          4\n",
       "Tangerang              3\n",
       "Cimahi                 3\n",
       "Kab. Bekasi            1\n",
       "Semarang               1\n",
       "Jakarta Utara          1\n",
       "Kab. Bandung Barat     1\n",
       "Malang                 1\n",
       "Bogor                  1\n",
       "Kab. Sleman            1\n",
       "Name: count, dtype: int64"
      ]
     },
     "execution_count": 45,
     "metadata": {},
     "output_type": "execute_result"
    }
   ],
   "source": [
    "# Melihat Jumlah Nilai pada Kota Toko \n",
    "df[\"Kota Toko\"].value_counts()"
   ]
  },
  {
   "cell_type": "markdown",
   "metadata": {},
   "source": [
    "Dari data di atas diketahui bahwa yang termasuk Jabodetabek dan non-Jabodetabek adalah sebagai berikut:\n",
    "\n",
    "Kategori | Daerah\n",
    "---|---\n",
    "Jabodetabek  | Depok, Tangerang Selatan, Jakarta Barat, Jakarta Selatan, Jakarta Timur, Kab. Bogor, Kab. Tangerang, Jakarta Pusat, Tangerang, Jakarta Utara, Bogor \n",
    "Non-Jabodetabek | Kab. Garut, Bandung, Kab. Bandung, Surakarta, Kab. Sidoarjo, Surabaya, Cimahi, Kab. Bekasi, Semarang, Kab. Bandung Barat, Malang, Kab. Sleman             \n"
   ]
  },
  {
   "cell_type": "code",
   "execution_count": 52,
   "metadata": {},
   "outputs": [
    {
     "data": {
      "text/html": [
       "<div>\n",
       "<style scoped>\n",
       "    .dataframe tbody tr th:only-of-type {\n",
       "        vertical-align: middle;\n",
       "    }\n",
       "\n",
       "    .dataframe tbody tr th {\n",
       "        vertical-align: top;\n",
       "    }\n",
       "\n",
       "    .dataframe thead th {\n",
       "        text-align: right;\n",
       "    }\n",
       "</style>\n",
       "<table border=\"1\" class=\"dataframe\">\n",
       "  <thead>\n",
       "    <tr style=\"text-align: right;\">\n",
       "      <th></th>\n",
       "      <th>Kota Toko</th>\n",
       "      <th>Harga Produk</th>\n",
       "    </tr>\n",
       "  </thead>\n",
       "  <tbody>\n",
       "    <tr>\n",
       "      <th>4</th>\n",
       "      <td>Jakarta Barat</td>\n",
       "      <td>4180</td>\n",
       "    </tr>\n",
       "    <tr>\n",
       "      <th>5</th>\n",
       "      <td>Depok</td>\n",
       "      <td>23750</td>\n",
       "    </tr>\n",
       "    <tr>\n",
       "      <th>6</th>\n",
       "      <td>Depok</td>\n",
       "      <td>9900</td>\n",
       "    </tr>\n",
       "    <tr>\n",
       "      <th>7</th>\n",
       "      <td>Jakarta Timur</td>\n",
       "      <td>14725</td>\n",
       "    </tr>\n",
       "    <tr>\n",
       "      <th>8</th>\n",
       "      <td>Depok</td>\n",
       "      <td>23750</td>\n",
       "    </tr>\n",
       "  </tbody>\n",
       "</table>\n",
       "</div>"
      ],
      "text/plain": [
       "       Kota Toko  Harga Produk\n",
       "4  Jakarta Barat          4180\n",
       "5          Depok         23750\n",
       "6          Depok          9900\n",
       "7  Jakarta Timur         14725\n",
       "8          Depok         23750"
      ]
     },
     "execution_count": 52,
     "metadata": {},
     "output_type": "execute_result"
    }
   ],
   "source": [
    "# Membuat Variabel Harga Jabodetabek\n",
    "harga_jabodetabek = df[df[\"Kota Toko\"].isin([\"Depok\", \"Tangerang Selatan\", \"Jakarta Barat\", \"Jakarta Selatan\", \"Jakarta Timur\", \"Kab. Bogor\", \"Kab. Tangerang\", \"Jakarta Pusat\", \"Tangerang\", \"Jakarta Utara\", \"Bogor\", \"Kab. Bekasi\"])][[\"Kota Toko\", \"Harga Produk\"]]\n",
    "harga_jabodetabek.head()"
   ]
  },
  {
   "cell_type": "code",
   "execution_count": 47,
   "metadata": {},
   "outputs": [
    {
     "data": {
      "text/html": [
       "<div>\n",
       "<style scoped>\n",
       "    .dataframe tbody tr th:only-of-type {\n",
       "        vertical-align: middle;\n",
       "    }\n",
       "\n",
       "    .dataframe tbody tr th {\n",
       "        vertical-align: top;\n",
       "    }\n",
       "\n",
       "    .dataframe thead th {\n",
       "        text-align: right;\n",
       "    }\n",
       "</style>\n",
       "<table border=\"1\" class=\"dataframe\">\n",
       "  <thead>\n",
       "    <tr style=\"text-align: right;\">\n",
       "      <th></th>\n",
       "      <th>Kota Toko</th>\n",
       "      <th>Harga Produk</th>\n",
       "    </tr>\n",
       "  </thead>\n",
       "  <tbody>\n",
       "    <tr>\n",
       "      <th>3</th>\n",
       "      <td>Bandung</td>\n",
       "      <td>19800</td>\n",
       "    </tr>\n",
       "    <tr>\n",
       "      <th>21</th>\n",
       "      <td>Surakarta</td>\n",
       "      <td>16000</td>\n",
       "    </tr>\n",
       "    <tr>\n",
       "      <th>22</th>\n",
       "      <td>Kab. Bandung</td>\n",
       "      <td>13999</td>\n",
       "    </tr>\n",
       "    <tr>\n",
       "      <th>27</th>\n",
       "      <td>Kab. Garut</td>\n",
       "      <td>15000</td>\n",
       "    </tr>\n",
       "    <tr>\n",
       "      <th>33</th>\n",
       "      <td>Kab. Sidoarjo</td>\n",
       "      <td>11500</td>\n",
       "    </tr>\n",
       "  </tbody>\n",
       "</table>\n",
       "</div>"
      ],
      "text/plain": [
       "        Kota Toko  Harga Produk\n",
       "3         Bandung         19800\n",
       "21      Surakarta         16000\n",
       "22   Kab. Bandung         13999\n",
       "27     Kab. Garut         15000\n",
       "33  Kab. Sidoarjo         11500"
      ]
     },
     "execution_count": 47,
     "metadata": {},
     "output_type": "execute_result"
    }
   ],
   "source": [
    "# Membuat Variabel Harga Non-Jabodetabek\n",
    "harga_non_jabodetabek = df[df[\"Kota Toko\"].isin([\"Kab. Garut\", \"Bandung\", \"Kab. Bandung\", \"Surakarta\", \"Kab. Sidoarjo\", \"Surabaya\", \"Cimahi\", \"Semarang\", \"Kab. Bandung Barat\", \"Malang\", \"Kab. Sleman\"])][[\"Kota Toko\", \"Harga Produk\"]]\n",
    "harga_non_jabodetabek.head()"
   ]
  },
  {
   "cell_type": "code",
   "execution_count": 48,
   "metadata": {},
   "outputs": [
    {
     "name": "stdout",
     "output_type": "stream",
     "text": [
      "T-Statistic: 1.155\n",
      "P-value: 0.249\n"
     ]
    }
   ],
   "source": [
    "# Pengujian Hipotesis\n",
    "t_stat, p_val = stats.ttest_ind(harga_jabodetabek[\"Harga Produk\"], harga_non_jabodetabek[\"Harga Produk\"])\n",
    "print('T-Statistic:',t_stat.round(3))\n",
    "print('P-value:',p_val.round(3)) "
   ]
  },
  {
   "cell_type": "markdown",
   "metadata": {},
   "source": [
    "**Interpretasi #12:**\n",
    "\n",
    "Untuk menjawab pertanyaan ini akan dilakuan dengan menggunakan hipotesis yakni hipotesis H0 dan H1 seperti yang dipaparkan sebelumnya. Maka hal yang harus dilakukan adalah dengan mengelompokkan data untuk `Jabodetabek` dan `Non-Jabodetabek` sehingga variabe tersebut dapat dilakukan pengujian dengan bantuan `stats`. Hasil dari pengujian akan menghasilkan nilai T-Statistic dan P-Value. Untuk nilai T-Statistic memiliki nilai 1.184 memiliki makna bahwa harga rata-rata produk di Jabodetabek cenderung lebih tinggi daripada di luar Jabodetabek. Namun, karena nilainya tidak jauh dari angka 0 maka kekukatannya relatif rendah. Untuk membuktikan itu perlu dilakukan pengujian P-Value yang dimana mendapatkan nilai 0.237. Angka ini lebih besar dari signifikasi yang umum digunakan yaitu 0.05 sehingga tidak ditemukan cukup bukti untuk menolak hipotesis nol. Sehingga H0 diterima yakni Tidak ada perbedaan harga barang antara Jabodetabek dan luar Jabodetabek\n",
    "\n",
    "---"
   ]
  },
  {
   "cell_type": "markdown",
   "metadata": {},
   "source": [
    "4. Apakah orang lebih cenderung suka dengan produk yang harganya murah?"
   ]
  },
  {
   "cell_type": "markdown",
   "metadata": {},
   "source": [
    "Untuk menemukan jawaban dari pertanyaan akan digunakan hipotesis berikut:\n",
    "\n",
    "H0 = Tidak ada korelasi antara harga produk dan banyaknya terjual\n",
    "\n",
    "H1 = Ada korelasi antara harga produk dan banyaknya terjual"
   ]
  },
  {
   "cell_type": "code",
   "execution_count": 49,
   "metadata": {},
   "outputs": [
    {
     "data": {
      "text/plain": [
       "<seaborn.axisgrid.FacetGrid at 0x1de67b364d0>"
      ]
     },
     "execution_count": 49,
     "metadata": {},
     "output_type": "execute_result"
    },
    {
     "data": {
      "image/png": "[encoded data removed]",
      "text/plain": [
       "<Figure size 900x600 with 1 Axes>"
      ]
     },
     "metadata": {},
     "output_type": "display_data"
    }
   ],
   "source": [
    "# Menampilkan Grafik Analisis Korelasi\n",
    "sns.lmplot(data=df, x=\"Harga Produk\", y=\"Banyaknya Terjual\", height=6, aspect=1.5)"
   ]
  },
  {
   "cell_type": "code",
   "execution_count": 53,
   "metadata": {},
   "outputs": [
    {
     "name": "stdout",
     "output_type": "stream",
     "text": [
      "rho-correlation: -0.58, p-value: 4.8247152841624333e-32\n"
     ]
    }
   ],
   "source": [
    "# Menmpilkan Informasi Analisis Korelasi\n",
    "corr_rho, pval_s = stats.spearmanr(df['Harga Produk'], df['Banyaknya Terjual'])\n",
    "print(f\"rho-correlation: {corr_rho:.2f}, p-value: {pval_s}\")\n"
   ]
  },
  {
   "cell_type": "markdown",
   "metadata": {},
   "source": [
    "Interpretasi #13:\n",
    "\n",
    "Dari data didapat nilai *correlation* untuk setiap metodenya memiliki nilai negatif hal itu menandakan hubungan linier yang negatif. Untuk nilai p-value sangat kecil untuk setiap *correlation* menunjukkan bahwa korelasi ini sangat signifikan secara statistik. Hal ini terbukti dari nilai p-value yang lebih rendah dari 0,05. Dari hasil tersebut, kita dapat menyimpulkan bahwa terdapat hubungan yang signifikan secara statistik antara harga produk dan banyaknya terjual. Korelasi ini menunjukkan bahwa, secara umum, semakin tinggi harga produk, semakin rendah jumlah penjualan, dan sebaliknya.   \n",
    "\n",
    "---"
   ]
  },
  {
   "cell_type": "markdown",
   "metadata": {},
   "source": [
    "#### **Kesimpulan**"
   ]
  },
  {
   "cell_type": "markdown",
   "metadata": {},
   "source": [
    "Dari analisa data yang telah dilakukan, adapun rekomendasi yang bisa diberikan adalah:\n",
    "\n",
    "1. Seperti pada interpretasi #11, Harga produk seblak yang bisa dijual untuk mendapatkan keuntungan maksimal berkisar Rp 20000 namun hal itu terlalu sulit dikarenakan harga terlalu mahal jika ingin bersaing dengan kompetitor dengan harga sama yaitu kylafood dan apabila bukan mengambil produk dari Kylafood sebagai produk dropshipper. Oleh karena itu, untuk mengatasi permsalahan harga saya merekomendasikan untuk menjual seblak di kisaran harga Rp 5000 hingga Rp 10000. Karena bedasarkan interpretasi #13, semakin tinggi harga produk, konsumen cenderung untuk tidak memilih produk tersebut. Selain itu, karena keterbatasan akan biaya produksi namun cukup untuk biaya promosi, dengan harga diantara Rp 5000 hingga Rp 10000 tidak terlalu berat sehingga bisa mengatasi permasalahan akan biaya. \n",
    "\n",
    "2. Terkait dengan kesimpulan pertama, dengan menjual produk di harga Rp 5000 hingga Rp 10000, pastikan untuk menyiapkan budget semaksimal mungkin untuk 100 unit produk seblak. Dari data banyaknya produk seblak yang terjual, penjualan terbanyak untuk 1 jenis seblak adalah 100. Hal ini bertujuan untuk mengantisipasi kerugian.  \n",
    "\n",
    "3. Karena harga biaya produksi untuk Jabodetabek dan Non-Jabodetabek itu berbeda, maka penjual harus mengetahui target pasar yang ingin diincar. Selain itu kalkulasi jarak juga menjadi paremeter yang bisa dipertimbangkan. Jika penjual adalah orang yang berada di daerah Jabodetabek, maka bisa mencari produk seblak yang murah namun bisa menjual di harga maksimal yaitu Rp 10000 namun perlu adanya kalkulasi dengan biaya ongkos kirim. Sebaliknya jika penjual berada di luar Jabodetabek, maka penjual bisa memakai produk yang tidak jauh dari lokasi penjual untuk menghemat biaya ongkos kirim. Namun untuk harga produk mungkin bisa lebih dari Rp 10000. Kondisi ini terpenuhi jika mendapatkan konsumen yang berada di sekitar daerah penjual.\n",
    "\n",
    "4. Pada data ditemukan adanya outlier pada bagian banyaknya terjual. Hal ini dikarenakan produk seblak ini mendadak *booming* atau viral sehingga terjadi banyak penjualan yang tidak wajar. Penjual perlu memperhatikan kondisi lapangan sejauh apa mana *trend* produk ini masih ada. Selain itu, data outlier pada harga produk dikarenakan alasan yang sama. Direkomendasikan kepada penjual untuk mencoba dan mendapatkan keuntungan selama 3 bulan. Kemudian, dilakukan *review* kembali mengenai permasalahan harga dan produk yang terjual. Pertimbangannya adalah untuk mengetahui sejauh mana *trend* seblak apakah akan berakhir atau bisa berlanjut.\n",
    "\n",
    "5. Untuk mengenai rating produk, perlu diperhatikan jenis produk mana yang bisa dijual. Namun, itu tidak terlalu untuk diperhatikan karena konsumen cenderung memberikan rating baik untuk setiap produk seblak."
   ]
  }
 ],
 "metadata": {
  "kernelspec": {
   "display_name": "Python 3",
   "language": "python",
   "name": "python3"
  },
  "language_info": {
   "codemirror_mode": {
    "name": "ipython",
    "version": 3
   },
   "file_extension": ".py",
   "mimetype": "text/x-python",
   "name": "python",
   "nbconvert_exporter": "python",
   "pygments_lexer": "ipython3",
   "version": "3.11.9"
  }
 },
 "nbformat": 4,
 "nbformat_minor": 2
}
